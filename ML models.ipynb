{
 "cells": [
  {
   "cell_type": "markdown",
   "metadata": {},
   "source": [
    "### IMPORTS"
   ]
  },
  {
   "cell_type": "code",
   "execution_count": 2,
   "metadata": {},
   "outputs": [],
   "source": [
    "import glob\n",
    "import os.path\n",
    "import numpy as np\n",
    "import sys\n",
    "import codecs\n",
    "import json\n",
    "import pandas as pd\n",
    "import re\n",
    "import matplotlib.pyplot as plt\n",
    "import seaborn as sns\n",
    "from sklearn.preprocessing import StandardScaler\n",
    "from sklearn.model_selection import RandomizedSearchCV, GridSearchCV\n",
    "from xgboost import XGBClassifier\n",
    "from sklearn.naive_bayes import MultinomialNB, ComplementNB\n",
    "from sklearn.linear_model import LogisticRegression\n",
    "from sklearn.metrics import confusion_matrix\n",
    "from sklearn.model_selection import train_test_split\n",
    "from sklearn.metrics import classification_report"
   ]
  },
  {
   "cell_type": "markdown",
   "metadata": {},
   "source": [
    "### DATA LOAD"
   ]
  },
  {
   "cell_type": "code",
   "execution_count": 3,
   "metadata": {},
   "outputs": [],
   "source": [
    "train_folder = \"datasets/train-articles\" # check that the path to the datasets folder is correct, \n",
    "dev_folder = \"datasets/dev-articles\"     # if not adjust these variables accordingly\n",
    "train_labels_file = \"datasets/train-task2-TC.labels\"\n",
    "dev_template_labels_file = \"datasets/dev-task-TC-template.out\"\n",
    "task_TC_output_file = \"baseline-output-TC.txt\"\n",
    "\n",
    "def read_articles_from_file_list(folder_name, file_pattern=\"*.txt\"):\n",
    "    \"\"\"\n",
    "    Read articles from files matching patterns <file_pattern> from  \n",
    "    the directory <folder_name>. \n",
    "    The content of the article is saved in the dictionary whose key\n",
    "    is the id of the article (extracted from the file name).\n",
    "    Each element of <sentence_list> is one line of the article.\n",
    "    \"\"\"\n",
    "    file_list = glob.glob(os.path.join(folder_name, file_pattern))\n",
    "    articles = {}\n",
    "    article_id_list, sentence_id_list, sentence_list = ([], [], [])\n",
    "    for filename in sorted(file_list):\n",
    "        article_id = os.path.basename(filename).split(\".\")[0][7:]\n",
    "        with codecs.open(filename, \"r\", encoding=\"utf8\") as f:\n",
    "            articles[article_id] = f.read()\n",
    "    return articles\n",
    "\n",
    "\n",
    "def read_predictions_from_file(filename):\n",
    "    \"\"\"\n",
    "    Reader for the gold file and the template output file. \n",
    "    Return values are four arrays with article ids, labels \n",
    "    (or ? in the case of a template file), begin of a fragment, \n",
    "    end of a fragment. \n",
    "    \"\"\"\n",
    "    articles_id, span_starts, span_ends, gold_labels = ([], [], [], [])\n",
    "    with open(filename, \"r\") as f:\n",
    "        for row in f.readlines():\n",
    "            article_id, gold_label, span_start, span_end = row.rstrip().split(\"\\t\")\n",
    "            articles_id.append(article_id)\n",
    "            gold_labels.append(gold_label)\n",
    "            span_starts.append(span_start)\n",
    "            span_ends.append(span_end)\n",
    "    return articles_id, span_starts, span_ends, gold_labels\n",
    "\n",
    "def compute_features_b(articles, span_starts, span_ends):\n",
    "    # only one feature, the length of the span\n",
    "    return np.array([ int(sp_ends)-int(sp_starts) for sp_starts, sp_ends in zip(span_starts, span_ends) ]).reshape(-1, 1)\n",
    "\n",
    "def clean(text):\n",
    "    text=text.lower()\n",
    "    text = re.sub(r'^https?:\\/\\/.*[\\r\\n]*', '', text, flags=re.MULTILINE)\n",
    "    text=re.sub('[“\"”]',' \" ',text)\n",
    "    retain='[^abcdefghijklmnopqrstuvwxyz!#?\" ]'\n",
    "    text=re.sub('[()–-]',' ',text)\n",
    "    text=re.sub(retain,'',text)\n",
    "    text=text.replace('?',' ? ')\n",
    "    text=text.replace('#',' # ')\n",
    "    text=text.replace('!',' ! ')\n",
    "    return ' '.join(text.split())\n",
    "\n",
    "# loading articles' content from *.txt files in the train folder\n",
    "articles = read_articles_from_file_list(train_folder)\n",
    "dev_articles = read_articles_from_file_list(dev_folder)\n",
    "\n",
    "def read_span(id,span,dev=False):\n",
    "    if dev:\n",
    "        return dev_articles[id][span[0]:span[1]]\n",
    "    else:\n",
    "        return articles[id][span[0]:span[1]]\n",
    "    \n",
    "def wordListToFreqDict(wordlist):\n",
    "    freq=dict()\n",
    "    for word in wordlist:\n",
    "        if word in freq:\n",
    "            freq[word]+=1\n",
    "        else:\n",
    "            freq[word]=1\n",
    "    return freq\n",
    "def sortFreqDict(freqdict):\n",
    "    aux = [(freqdict[key], key) for key in freqdict]\n",
    "    aux.sort()\n",
    "    aux.reverse()\n",
    "    return aux\n",
    "def compute_feature(sentence,tfilf):\n",
    "    feat=[]\n",
    "    for prop in Propagandas:\n",
    "        val=0\n",
    "        for tok in sentence.split():\n",
    "            if tok in tfilf[prop]:\n",
    "                val=val+tfilf[prop][tok]\n",
    "        feat.append(val)     \n",
    "    return feat"
   ]
  },
  {
   "cell_type": "code",
   "execution_count": 4,
   "metadata": {},
   "outputs": [
    {
     "name": "stdout",
     "output_type": "stream",
     "text": [
      "Loaded 6129 annotations from 357 articles\n"
     ]
    }
   ],
   "source": [
    "# loading gold labels, articles ids and sentence ids from files *.task-TC.labels in the train labels folder \n",
    "ref_articles_id, ref_span_starts, ref_span_ends, train_gold_labels = read_predictions_from_file(train_labels_file)\n",
    "print(\"Loaded %d annotations from %d articles\" % (len(ref_span_starts), len(set(ref_articles_id))))\n",
    "\n",
    "# reading data from the development set\n",
    "dev_article_ids, dev_span_starts, dev_span_ends, dev_labels = read_predictions_from_file(dev_template_labels_file)"
   ]
  },
  {
   "cell_type": "code",
   "execution_count": 5,
   "metadata": {},
   "outputs": [],
   "source": [
    "in_data=[(id, [int(sps),int(spe)])for id, sps, spe in zip(ref_articles_id, ref_span_starts, ref_span_ends)]\n",
    "df=pd.DataFrame(in_data,columns=['ID','Span'])\n",
    "df['Sentence']=[read_span(id,span) for id,span in zip(df['ID'].tolist(),df['Span'].tolist())]\n",
    "df['Sentence']=df['Sentence'].apply(lambda x : clean(x))\n",
    "df['Span']=df['Span'].apply(lambda x : x[1]-x[0])\n",
    "df['Target']=train_gold_labels\n",
    "df=df.drop_duplicates()"
   ]
  },
  {
   "cell_type": "code",
   "execution_count": 6,
   "metadata": {},
   "outputs": [],
   "source": [
    "dev_data=[(id, [int(sps),int(spe)])for id, sps, spe in zip(dev_article_ids, dev_span_starts, dev_span_ends)]\n",
    "df_dev=pd.DataFrame(dev_data,columns=['ID','Span'])\n",
    "df_dev['Sentence']=[read_span(id,span,dev=True) for id,span in zip(df_dev['ID'].tolist(),df_dev['Span'].tolist())]\n",
    "df_dev['Sentence']=df_dev['Sentence'].apply(lambda x : clean(x))\n",
    "df_dev['Span']=df_dev['Span'].apply(lambda x : x[1]-x[0])"
   ]
  },
  {
   "cell_type": "code",
   "execution_count": 7,
   "metadata": {},
   "outputs": [
    {
     "data": {
      "text/html": [
       "<div>\n",
       "<style scoped>\n",
       "    .dataframe tbody tr th:only-of-type {\n",
       "        vertical-align: middle;\n",
       "    }\n",
       "\n",
       "    .dataframe tbody tr th {\n",
       "        vertical-align: top;\n",
       "    }\n",
       "\n",
       "    .dataframe thead th {\n",
       "        text-align: right;\n",
       "    }\n",
       "</style>\n",
       "<table border=\"1\" class=\"dataframe\">\n",
       "  <thead>\n",
       "    <tr style=\"text-align: right;\">\n",
       "      <th></th>\n",
       "      <th>ID</th>\n",
       "      <th>Span</th>\n",
       "      <th>Sentence</th>\n",
       "      <th>Target</th>\n",
       "    </tr>\n",
       "  </thead>\n",
       "  <tbody>\n",
       "    <tr>\n",
       "      <th>0</th>\n",
       "      <td>111111111</td>\n",
       "      <td>58</td>\n",
       "      <td>the next transmission could be more pronounced...</td>\n",
       "      <td>Appeal_to_Authority</td>\n",
       "    </tr>\n",
       "    <tr>\n",
       "      <th>1</th>\n",
       "      <td>111111111</td>\n",
       "      <td>140</td>\n",
       "      <td>when the plague comes again it starts from mor...</td>\n",
       "      <td>Appeal_to_Authority</td>\n",
       "    </tr>\n",
       "    <tr>\n",
       "      <th>2</th>\n",
       "      <td>111111111</td>\n",
       "      <td>8</td>\n",
       "      <td>appeared</td>\n",
       "      <td>Doubt</td>\n",
       "    </tr>\n",
       "    <tr>\n",
       "      <th>3</th>\n",
       "      <td>111111111</td>\n",
       "      <td>22</td>\n",
       "      <td>a very very different</td>\n",
       "      <td>Repetition</td>\n",
       "    </tr>\n",
       "    <tr>\n",
       "      <th>4</th>\n",
       "      <td>111111111</td>\n",
       "      <td>128</td>\n",
       "      <td>he also pointed to the presence of the pneumon...</td>\n",
       "      <td>Appeal_to_fear-prejudice</td>\n",
       "    </tr>\n",
       "  </tbody>\n",
       "</table>\n",
       "</div>"
      ],
      "text/plain": [
       "          ID  Span                                           Sentence  \\\n",
       "0  111111111    58  the next transmission could be more pronounced...   \n",
       "1  111111111   140  when the plague comes again it starts from mor...   \n",
       "2  111111111     8                                           appeared   \n",
       "3  111111111    22                              a very very different   \n",
       "4  111111111   128  he also pointed to the presence of the pneumon...   \n",
       "\n",
       "                     Target  \n",
       "0       Appeal_to_Authority  \n",
       "1       Appeal_to_Authority  \n",
       "2                     Doubt  \n",
       "3                Repetition  \n",
       "4  Appeal_to_fear-prejudice  "
      ]
     },
     "execution_count": 7,
     "metadata": {},
     "output_type": "execute_result"
    }
   ],
   "source": [
    "df.head()"
   ]
  },
  {
   "cell_type": "code",
   "execution_count": 8,
   "metadata": {},
   "outputs": [
    {
     "data": {
      "text/html": [
       "<div>\n",
       "<style scoped>\n",
       "    .dataframe tbody tr th:only-of-type {\n",
       "        vertical-align: middle;\n",
       "    }\n",
       "\n",
       "    .dataframe tbody tr th {\n",
       "        vertical-align: top;\n",
       "    }\n",
       "\n",
       "    .dataframe thead th {\n",
       "        text-align: right;\n",
       "    }\n",
       "</style>\n",
       "<table border=\"1\" class=\"dataframe\">\n",
       "  <thead>\n",
       "    <tr style=\"text-align: right;\">\n",
       "      <th></th>\n",
       "      <th>ID</th>\n",
       "      <th>Span</th>\n",
       "      <th>Sentence</th>\n",
       "    </tr>\n",
       "  </thead>\n",
       "  <tbody>\n",
       "    <tr>\n",
       "      <th>0</th>\n",
       "      <td>730093263</td>\n",
       "      <td>5</td>\n",
       "      <td>white</td>\n",
       "    </tr>\n",
       "    <tr>\n",
       "      <th>1</th>\n",
       "      <td>730093263</td>\n",
       "      <td>5</td>\n",
       "      <td>black</td>\n",
       "    </tr>\n",
       "    <tr>\n",
       "      <th>2</th>\n",
       "      <td>730093263</td>\n",
       "      <td>23</td>\n",
       "      <td>\" true american heroes \"</td>\n",
       "    </tr>\n",
       "    <tr>\n",
       "      <th>3</th>\n",
       "      <td>730093263</td>\n",
       "      <td>5</td>\n",
       "      <td>black</td>\n",
       "    </tr>\n",
       "    <tr>\n",
       "      <th>4</th>\n",
       "      <td>730093263</td>\n",
       "      <td>108</td>\n",
       "      <td>if these two men had survived and quentin lama...</td>\n",
       "    </tr>\n",
       "  </tbody>\n",
       "</table>\n",
       "</div>"
      ],
      "text/plain": [
       "          ID  Span                                           Sentence\n",
       "0  730093263     5                                              white\n",
       "1  730093263     5                                              black\n",
       "2  730093263    23                           \" true american heroes \"\n",
       "3  730093263     5                                              black\n",
       "4  730093263   108  if these two men had survived and quentin lama..."
      ]
     },
     "execution_count": 8,
     "metadata": {},
     "output_type": "execute_result"
    }
   ],
   "source": [
    "df_dev.head()"
   ]
  },
  {
   "cell_type": "markdown",
   "metadata": {},
   "source": [
    "## BASELINE MODEL"
   ]
  },
  {
   "cell_type": "code",
   "execution_count": 9,
   "metadata": {},
   "outputs": [],
   "source": [
    "X_train, X_test, Y_train, Y_test = train_test_split(df['Span'].values.reshape(-1,1), df['Target'].values.reshape(-1,1),test_size=500, stratify=df['Target'], random_state=1234)"
   ]
  },
  {
   "cell_type": "code",
   "execution_count": 10,
   "metadata": {},
   "outputs": [
    {
     "name": "stderr",
     "output_type": "stream",
     "text": [
      "/home/somesh/.local/lib/python3.6/site-packages/sklearn/utils/validation.py:761: DataConversionWarning: A column-vector y was passed when a 1d array was expected. Please change the shape of y to (n_samples, ), for example using ravel().\n",
      "  y = column_or_1d(y, warn=True)\n",
      "/home/somesh/.local/lib/python3.6/site-packages/sklearn/linear_model/logistic.py:460: FutureWarning: Default multi_class will be changed to 'auto' in 0.22. Specify the multi_class option to silence this warning.\n",
      "  \"this warning.\", FutureWarning)\n"
     ]
    }
   ],
   "source": [
    "base_model = LogisticRegression(penalty='l2', class_weight='balanced', solver=\"lbfgs\")\n",
    "base_model.fit(X_train, Y_train)\n",
    "pred=base_model.predict(X_test)"
   ]
  },
  {
   "cell_type": "code",
   "execution_count": 11,
   "metadata": {},
   "outputs": [
    {
     "data": {
      "text/plain": [
       "<matplotlib.axes._subplots.AxesSubplot at 0x7f74c2506b38>"
      ]
     },
     "execution_count": 11,
     "metadata": {},
     "output_type": "execute_result"
    },
    {
     "data": {
      "image/png": "[encoded data removed]",
      "text/plain": [
       "<Figure size 720x576 with 2 Axes>"
      ]
     },
     "metadata": {},
     "output_type": "display_data"
    }
   ],
   "source": [
    "cm=confusion_matrix(Y_test,pred)\n",
    "cm = cm.astype('float') / cm.sum(axis=1)[:, np.newaxis]\n",
    "plt.figure(figsize = (10,8))\n",
    "sns.heatmap(cm,annot=True)"
   ]
  },
  {
   "cell_type": "code",
   "execution_count": 12,
   "metadata": {},
   "outputs": [
    {
     "name": "stdout",
     "output_type": "stream",
     "text": [
      "                                    precision    recall  f1-score   support\n",
      "\n",
      "               Appeal_to_Authority       0.00      0.00      0.00        12\n",
      "          Appeal_to_fear-prejudice       0.00      0.00      0.00        25\n",
      "    Bandwagon,Reductio_ad_hitlerum       0.00      0.00      0.00         6\n",
      "           Black-and-White_Fallacy       0.00      0.00      0.00         9\n",
      "         Causal_Oversimplification       0.18      0.44      0.26        18\n",
      "                             Doubt       0.28      0.23      0.25        43\n",
      "         Exaggeration,Minimisation       0.20      0.28      0.23        40\n",
      "                       Flag-Waving       0.10      0.21      0.13        19\n",
      "                   Loaded_Language       0.51      0.87      0.64       180\n",
      "             Name_Calling,Labeling       0.00      0.00      0.00        87\n",
      "                        Repetition       0.00      0.00      0.00        35\n",
      "                           Slogans       0.00      0.00      0.00        10\n",
      "       Thought-terminating_Cliches       0.00      0.00      0.00         7\n",
      "Whataboutism,Straw_Men,Red_Herring       0.06      0.11      0.07         9\n",
      "\n",
      "                         micro avg       0.38      0.38      0.38       500\n",
      "                         macro avg       0.09      0.15      0.11       500\n",
      "                      weighted avg       0.24      0.38      0.29       500\n",
      "\n"
     ]
    },
    {
     "name": "stderr",
     "output_type": "stream",
     "text": [
      "/home/somesh/.local/lib/python3.6/site-packages/sklearn/metrics/classification.py:1143: UndefinedMetricWarning: Precision and F-score are ill-defined and being set to 0.0 in labels with no predicted samples.\n",
      "  'precision', 'predicted', average, warn_for)\n"
     ]
    }
   ],
   "source": [
    "print(classification_report(Y_test,pred))"
   ]
  },
  {
   "cell_type": "markdown",
   "metadata": {},
   "source": [
    "### TOPIC MODELLING"
   ]
  },
  {
   "cell_type": "code",
   "execution_count": null,
   "metadata": {},
   "outputs": [],
   "source": [
    "train_corpus = open(\"dumps/Text_stitch.txt\",'r').read()\n",
    "train_corpus= clean(train_corpus)"
   ]
  },
  {
   "cell_type": "code",
   "execution_count": null,
   "metadata": {},
   "outputs": [],
   "source": [
    "train_freq=wordListToFreqDict(train_corpus.split())\n",
    "freq_sorted=sortFreqDict(train_freq)"
   ]
  },
  {
   "cell_type": "code",
   "execution_count": null,
   "metadata": {},
   "outputs": [],
   "source": [
    "Propagandas=set(df['Target'])\n",
    "Topic_freq=dict()\n",
    "for prop in Propagandas:\n",
    "    wl=(' '.join(df[df['Target']==prop]['Sentence'].tolist())).split(' ')\n",
    "    Topic_freq[prop]=wordListToFreqDict(wl)"
   ]
  },
  {
   "cell_type": "code",
   "execution_count": null,
   "metadata": {},
   "outputs": [],
   "source": [
    "wl=(' '.join(df['Sentence'].tolist())).split(' ')\n",
    "freq=wordListToFreqDict(wl)"
   ]
  },
  {
   "cell_type": "code",
   "execution_count": null,
   "metadata": {},
   "outputs": [],
   "source": [
    "tfilf=dict()\n",
    "L=len(df)\n",
    "c=0\n",
    "for prop in Topic_freq:\n",
    "    tfilf[prop]=dict()\n",
    "    l=len(df[df['Target']==prop])\n",
    "    for word in Topic_freq[prop]:\n",
    "        if word in train_freq and freq[word]>85:\n",
    "            num=Topic_freq[prop][word]/l\n",
    "            den=(freq[word]-Topic_freq[prop][word])/(L-l)\n",
    "            if den > 0 and num/den > 1 :\n",
    "                tfilf[prop][word]=num/den"
   ]
  },
  {
   "cell_type": "code",
   "execution_count": null,
   "metadata": {},
   "outputs": [],
   "source": [
    "Data=pd.DataFrame([compute_feature(sentence,tfilf) for sentence in df['Sentence'].tolist()])\n",
    "Data=Data.join(df)\n",
    "Data.dropna(inplace=True)\n",
    "#Data.drop([1,5,7,13],axis=1,inplace=True)\n",
    "Data.head()"
   ]
  },
  {
   "cell_type": "code",
   "execution_count": null,
   "metadata": {},
   "outputs": [],
   "source": [
    "Data.describe()"
   ]
  },
  {
   "cell_type": "code",
   "execution_count": null,
   "metadata": {},
   "outputs": [],
   "source": [
    "X_train, X_test, Y_train, Y_test = train_test_split(Data.drop(['Sentence','ID','Target'],axis=1), Data['Target'], test_size=578, stratify=Data['Target'])\n",
    "X_train, X_test = StandardScaler().fit_transform(X_train), StandardScaler().fit_transform(X_test)"
   ]
  },
  {
   "cell_type": "code",
   "execution_count": null,
   "metadata": {},
   "outputs": [],
   "source": [
    "model = LogisticRegression(penalty='l2', class_weight='balanced', solver=\"liblinear\", multi_class='ovr')\n",
    "model.fit(X_train, Y_train)\n",
    "pred=model.predict(X_train)"
   ]
  },
  {
   "cell_type": "code",
   "execution_count": null,
   "metadata": {},
   "outputs": [],
   "source": [
    "cm=confusion_matrix(Y_train,pred)\n",
    "cm = cm.astype('float') / cm.sum(axis=1)[:, np.newaxis]\n",
    "plt.figure(figsize = (10,8))\n",
    "sns.heatmap(cm,annot=True)"
   ]
  },
  {
   "cell_type": "code",
   "execution_count": null,
   "metadata": {},
   "outputs": [],
   "source": [
    "print(classification_report(Y_train,pred))"
   ]
  },
  {
   "cell_type": "markdown",
   "metadata": {},
   "source": [
    "##### writing predictions to file\n",
    "with open(task_TC_output_file, \"w\") as fout:\n",
    "    for article_id, prediction, span_start, span_end in zip(dev_article_ids, predictions, dev_span_starts, dev_span_ends):\n",
    "        fout.write(\"%s\\t%s\\t%s\\t%s\\n\" % (article_id, prediction, span_start, span_end))\n",
    "print(\"Predictions written to file \" + task_TC_output_file)"
   ]
  },
  {
   "cell_type": "markdown",
   "metadata": {},
   "source": [
    "## TFIDF"
   ]
  },
  {
   "cell_type": "code",
   "execution_count": 85,
   "metadata": {},
   "outputs": [],
   "source": [
    "from io import StringIO\n",
    "from sklearn.feature_extraction.text import TfidfVectorizer\n",
    "from sklearn.feature_selection import chi2\n",
    "from IPython.display import display\n",
    "from sklearn.model_selection import train_test_split\n",
    "from sklearn.feature_extraction.text import TfidfTransformer\n",
    "from sklearn.svm import LinearSVC\n",
    "from sklearn.model_selection import cross_val_score\n",
    "from sklearn import metrics\n",
    "from imblearn.over_sampling import SMOTE "
   ]
  },
  {
   "cell_type": "code",
   "execution_count": 97,
   "metadata": {},
   "outputs": [],
   "source": [
    "tfidf = TfidfVectorizer(sublinear_tf=True, min_df=5,ngram_range=(1, 2),stop_words='english')\n",
    "features = tfidf.fit_transform(df.Sentence).toarray()\n",
    "features = np.append(features,df['Span'].values.reshape(-1,1),axis=1)\n",
    "X_train, X_test, Y_train, Y_test = train_test_split(features,df['Target'].values,test_size=500, stratify=df['Target'].values, random_state=1234)"
   ]
  },
  {
   "cell_type": "code",
   "execution_count": 98,
   "metadata": {},
   "outputs": [
    {
     "name": "stderr",
     "output_type": "stream",
     "text": [
      "/home/somesh/.local/lib/python3.6/site-packages/sklearn/linear_model/logistic.py:460: FutureWarning: Default multi_class will be changed to 'auto' in 0.22. Specify the multi_class option to silence this warning.\n",
      "  \"this warning.\", FutureWarning)\n"
     ]
    }
   ],
   "source": [
    "model_lr=LogisticRegression(penalty='l2', class_weight='balanced', solver=\"liblinear\", max_iter=500)\n",
    "model_lr.fit(X_train,Y_train)\n",
    "predz=model_lr.predict(X_test)"
   ]
  },
  {
   "cell_type": "code",
   "execution_count": 99,
   "metadata": {},
   "outputs": [
    {
     "data": {
      "text/plain": [
       "<matplotlib.axes._subplots.AxesSubplot at 0x7f749ba1c240>"
      ]
     },
     "execution_count": 99,
     "metadata": {},
     "output_type": "execute_result"
    },
    {
     "data": {
      "image/png": "[encoded data removed]",
      "text/plain": [
       "<Figure size 720x576 with 2 Axes>"
      ]
     },
     "metadata": {},
     "output_type": "display_data"
    }
   ],
   "source": [
    "cm=confusion_matrix(Y_test,predz)\n",
    "cm = cm.astype('float') / cm.sum(axis=1)[:, np.newaxis]\n",
    "plt.figure(figsize = (10,8))\n",
    "sns.heatmap(cm,annot=True)"
   ]
  },
  {
   "cell_type": "code",
   "execution_count": 100,
   "metadata": {},
   "outputs": [
    {
     "name": "stdout",
     "output_type": "stream",
     "text": [
      "                                    precision    recall  f1-score   support\n",
      "\n",
      "               Appeal_to_Authority       0.17      0.25      0.20        12\n",
      "          Appeal_to_fear-prejudice       0.41      0.36      0.38        25\n",
      "    Bandwagon,Reductio_ad_hitlerum       0.11      0.17      0.13         6\n",
      "           Black-and-White_Fallacy       0.25      0.22      0.24         9\n",
      "         Causal_Oversimplification       0.21      0.22      0.22        18\n",
      "                             Doubt       0.61      0.51      0.56        43\n",
      "         Exaggeration,Minimisation       0.35      0.28      0.31        40\n",
      "                       Flag-Waving       0.42      0.58      0.49        19\n",
      "                   Loaded_Language       0.63      0.74      0.68       180\n",
      "             Name_Calling,Labeling       0.58      0.32      0.41        87\n",
      "                        Repetition       0.27      0.11      0.16        35\n",
      "                           Slogans       0.32      0.60      0.41        10\n",
      "       Thought-terminating_Cliches       0.28      0.71      0.40         7\n",
      "Whataboutism,Straw_Men,Red_Herring       0.11      0.22      0.15         9\n",
      "\n",
      "                         micro avg       0.48      0.48      0.48       500\n",
      "                         macro avg       0.34      0.38      0.34       500\n",
      "                      weighted avg       0.49      0.48      0.47       500\n",
      "\n"
     ]
    }
   ],
   "source": [
    "print(classification_report(Y_test,predz))"
   ]
  }
 ],
 "metadata": {
  "kernelspec": {
   "display_name": "Python 3",
   "language": "python",
   "name": "python3"
  },
  "language_info": {
   "codemirror_mode": {
    "name": "ipython",
    "version": 3
   },
   "file_extension": ".py",
   "mimetype": "text/x-python",
   "name": "python",
   "nbconvert_exporter": "python",
   "pygments_lexer": "ipython3",
   "version": "3.6.8"
  }
 },
 "nbformat": 4,
 "nbformat_minor": 2
}
