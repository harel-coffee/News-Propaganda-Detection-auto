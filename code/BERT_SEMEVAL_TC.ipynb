{
  "nbformat": 4,
  "nbformat_minor": 0,
  "metadata": {
    "colab": {
      "name": "BERT-SEMEVAL_TC.ipynb",
      "provenance": [],
      "collapsed_sections": []
    },
    "kernelspec": {
      "name": "python3",
      "display_name": "Python 3"
    },
    "accelerator": "GPU",
    "widgets": {
      "application/vnd.jupyter.widget-state+json": {
        "5b941ca3995749d4aa137cae867c121c": {
          "model_module": "@jupyter-widgets/controls",
          "model_name": "HBoxModel",
          "state": {
            "_view_name": "HBoxView",
            "_dom_classes": [],
            "_model_name": "HBoxModel",
            "_view_module": "@jupyter-widgets/controls",
            "_model_module_version": "1.5.0",
            "_view_count": null,
            "_view_module_version": "1.5.0",
            "box_style": "",
            "layout": "IPY_MODEL_5d27d4976bbe410d92e69d8d3524469f",
            "_model_module": "@jupyter-widgets/controls",
            "children": [
              "IPY_MODEL_cb9ca805ed0a45669669a2fbcdb6a1d4",
              "IPY_MODEL_9eda9c56a8fa40c5bcc0e21c56c3b5f9"
            ]
          }
        },
        "5d27d4976bbe410d92e69d8d3524469f": {
          "model_module": "@jupyter-widgets/base",
          "model_name": "LayoutModel",
          "state": {
            "_view_name": "LayoutView",
            "grid_template_rows": null,
            "right": null,
            "justify_content": null,
            "_view_module": "@jupyter-widgets/base",
            "overflow": null,
            "_model_module_version": "1.2.0",
            "_view_count": null,
            "flex_flow": null,
            "width": null,
            "min_width": null,
            "border": null,
            "align_items": null,
            "bottom": null,
            "_model_module": "@jupyter-widgets/base",
            "top": null,
            "grid_column": null,
            "overflow_y": null,
            "overflow_x": null,
            "grid_auto_flow": null,
            "grid_area": null,
            "grid_template_columns": null,
            "flex": null,
            "_model_name": "LayoutModel",
            "justify_items": null,
            "grid_row": null,
            "max_height": null,
            "align_content": null,
            "visibility": null,
            "align_self": null,
            "height": null,
            "min_height": null,
            "padding": null,
            "grid_auto_rows": null,
            "grid_gap": null,
            "max_width": null,
            "order": null,
            "_view_module_version": "1.2.0",
            "grid_template_areas": null,
            "object_position": null,
            "object_fit": null,
            "grid_auto_columns": null,
            "margin": null,
            "display": null,
            "left": null
          }
        },
        "cb9ca805ed0a45669669a2fbcdb6a1d4": {
          "model_module": "@jupyter-widgets/controls",
          "model_name": "IntProgressModel",
          "state": {
            "_view_name": "ProgressView",
            "style": "IPY_MODEL_e29bb371845d4bc2ac65ba733a64e7f7",
            "_dom_classes": [],
            "description": "",
            "_model_name": "IntProgressModel",
            "bar_style": "success",
            "max": 7192,
            "_view_module": "@jupyter-widgets/controls",
            "_model_module_version": "1.5.0",
            "value": 7192,
            "_view_count": null,
            "_view_module_version": "1.5.0",
            "orientation": "horizontal",
            "min": 0,
            "description_tooltip": null,
            "_model_module": "@jupyter-widgets/controls",
            "layout": "IPY_MODEL_2123af3b9dcd404aa0679471e098d6c1"
          }
        },
        "9eda9c56a8fa40c5bcc0e21c56c3b5f9": {
          "model_module": "@jupyter-widgets/controls",
          "model_name": "HTMLModel",
          "state": {
            "_view_name": "HTMLView",
            "style": "IPY_MODEL_8a875bc28c904e59ad7c4a617f16280b",
            "_dom_classes": [],
            "description": "",
            "_model_name": "HTMLModel",
            "placeholder": "​",
            "_view_module": "@jupyter-widgets/controls",
            "_model_module_version": "1.5.0",
            "value": "100% 7192/7192 [00:00&lt;00:00, 61457.76it/s]",
            "_view_count": null,
            "_view_module_version": "1.5.0",
            "description_tooltip": null,
            "_model_module": "@jupyter-widgets/controls",
            "layout": "IPY_MODEL_5859f8573e914827877fc8ac087f9cf6"
          }
        },
        "e29bb371845d4bc2ac65ba733a64e7f7": {
          "model_module": "@jupyter-widgets/controls",
          "model_name": "ProgressStyleModel",
          "state": {
            "_view_name": "StyleView",
            "_model_name": "ProgressStyleModel",
            "description_width": "",
            "_view_module": "@jupyter-widgets/base",
            "_model_module_version": "1.5.0",
            "_view_count": null,
            "_view_module_version": "1.2.0",
            "bar_color": null,
            "_model_module": "@jupyter-widgets/controls"
          }
        },
        "2123af3b9dcd404aa0679471e098d6c1": {
          "model_module": "@jupyter-widgets/base",
          "model_name": "LayoutModel",
          "state": {
            "_view_name": "LayoutView",
            "grid_template_rows": null,
            "right": null,
            "justify_content": null,
            "_view_module": "@jupyter-widgets/base",
            "overflow": null,
            "_model_module_version": "1.2.0",
            "_view_count": null,
            "flex_flow": null,
            "width": null,
            "min_width": null,
            "border": null,
            "align_items": null,
            "bottom": null,
            "_model_module": "@jupyter-widgets/base",
            "top": null,
            "grid_column": null,
            "overflow_y": null,
            "overflow_x": null,
            "grid_auto_flow": null,
            "grid_area": null,
            "grid_template_columns": null,
            "flex": null,
            "_model_name": "LayoutModel",
            "justify_items": null,
            "grid_row": null,
            "max_height": null,
            "align_content": null,
            "visibility": null,
            "align_self": null,
            "height": null,
            "min_height": null,
            "padding": null,
            "grid_auto_rows": null,
            "grid_gap": null,
            "max_width": null,
            "order": null,
            "_view_module_version": "1.2.0",
            "grid_template_areas": null,
            "object_position": null,
            "object_fit": null,
            "grid_auto_columns": null,
            "margin": null,
            "display": null,
            "left": null
          }
        },
        "8a875bc28c904e59ad7c4a617f16280b": {
          "model_module": "@jupyter-widgets/controls",
          "model_name": "DescriptionStyleModel",
          "state": {
            "_view_name": "StyleView",
            "_model_name": "DescriptionStyleModel",
            "description_width": "",
            "_view_module": "@jupyter-widgets/base",
            "_model_module_version": "1.5.0",
            "_view_count": null,
            "_view_module_version": "1.2.0",
            "_model_module": "@jupyter-widgets/controls"
          }
        },
        "5859f8573e914827877fc8ac087f9cf6": {
          "model_module": "@jupyter-widgets/base",
          "model_name": "LayoutModel",
          "state": {
            "_view_name": "LayoutView",
            "grid_template_rows": null,
            "right": null,
            "justify_content": null,
            "_view_module": "@jupyter-widgets/base",
            "overflow": null,
            "_model_module_version": "1.2.0",
            "_view_count": null,
            "flex_flow": null,
            "width": null,
            "min_width": null,
            "border": null,
            "align_items": null,
            "bottom": null,
            "_model_module": "@jupyter-widgets/base",
            "top": null,
            "grid_column": null,
            "overflow_y": null,
            "overflow_x": null,
            "grid_auto_flow": null,
            "grid_area": null,
            "grid_template_columns": null,
            "flex": null,
            "_model_name": "LayoutModel",
            "justify_items": null,
            "grid_row": null,
            "max_height": null,
            "align_content": null,
            "visibility": null,
            "align_self": null,
            "height": null,
            "min_height": null,
            "padding": null,
            "grid_auto_rows": null,
            "grid_gap": null,
            "max_width": null,
            "order": null,
            "_view_module_version": "1.2.0",
            "grid_template_areas": null,
            "object_position": null,
            "object_fit": null,
            "grid_auto_columns": null,
            "margin": null,
            "display": null,
            "left": null
          }
        }
      }
    }
  },
  "cells": [
    {
      "cell_type": "markdown",
      "metadata": {
        "id": "kRrCQFqGADd3",
        "colab_type": "text"
      },
      "source": [
        "### **DRIVE**"
      ]
    },
    {
      "cell_type": "code",
      "metadata": {
        "id": "WijMqZ24bV0N",
        "colab_type": "code",
        "cellView": "form",
        "colab": {}
      },
      "source": [
        "#@title\n",
        "from google.colab import drive\n",
        "drive.mount('/content/drive')"
      ],
      "execution_count": 0,
      "outputs": []
    },
    {
      "cell_type": "markdown",
      "metadata": {
        "id": "RyJhq_OjAIoV",
        "colab_type": "text"
      },
      "source": [
        "### **IMPORTS**"
      ]
    },
    {
      "cell_type": "code",
      "metadata": {
        "id": "j55grCDgxkN4",
        "colab_type": "code",
        "cellView": "form",
        "colab": {}
      },
      "source": [
        "#@title\n",
        "!pip install pytorch_transformers\n",
        "from pytorch_transformers import *\n",
        "import os\n",
        "import numpy as np\n",
        "import pandas as pd\n",
        "import re\n",
        "from tqdm import tqdm\n",
        "import warnings\n",
        "warnings.filterwarnings('ignore')\n",
        "from sklearn.model_selection import train_test_split\n",
        "import torch\n",
        "from keras.preprocessing.sequence import pad_sequences\n",
        "from torch.utils.data import TensorDataset, DataLoader, RandomSampler, SequentialSampler\n",
        "from tqdm import  tqdm_notebook\n",
        "from sklearn.preprocessing import LabelEncoder as LE\n",
        "import itertools"
      ],
      "execution_count": 0,
      "outputs": []
    },
    {
      "cell_type": "markdown",
      "metadata": {
        "id": "O6oItgPEAUGB",
        "colab_type": "text"
      },
      "source": [
        "### **LOAD DATASET**"
      ]
    },
    {
      "cell_type": "code",
      "metadata": {
        "id": "7vu0tb-zxzJv",
        "colab_type": "code",
        "cellView": "form",
        "colab": {}
      },
      "source": [
        "#@title\n",
        "train=pd.read_csv('./drive/My Drive/datasets/Train.csv')\n",
        "dev=pd.read_csv('./drive/My Drive/datasets/Dev.csv')\n",
        "train_df=pd.concat([train,dev])"
      ],
      "execution_count": 0,
      "outputs": []
    },
    {
      "cell_type": "markdown",
      "metadata": {
        "id": "_3m7e5KbHQfS",
        "colab_type": "text"
      },
      "source": [
        "### **UTILITIES**"
      ]
    },
    {
      "cell_type": "code",
      "metadata": {
        "id": "CRV-XPzZGyqC",
        "colab_type": "code",
        "colab": {}
      },
      "source": [
        "#@title\n",
        "train_folder = \"./drive/My Drive/datasets/train-articles\" # check that the path to the datasets folder is correct, \n",
        "dev_folder = \"./drive/My Drive/datasets/dev-articles\"     # if not adjust these variables accordingly\n",
        "train_labels_file = \"./drive/My Drive/datasets/train-task2-TC.labels\"\n",
        "dev_template_labels_file = \"./drive/My Drive/datasets/dev-task-TC-template.out\"\n",
        "task_TC_output_file = \"BERT.txt\"\n",
        "\n",
        "def read_predictions_from_file(filename):\n",
        "    \"\"\"\n",
        "    Reader for the gold file and the template output file. \n",
        "    Return values are four arrays with article ids, labels \n",
        "    (or ? in the case of a template file), begin of a fragment, \n",
        "    end of a fragment. \n",
        "    \"\"\"\n",
        "    articles_id, span_starts, span_ends, gold_labels = ([], [], [], [])\n",
        "    with open(filename, \"r\") as f:\n",
        "        for row in f.readlines():\n",
        "            article_id, gold_label, span_start, span_end = row.rstrip().split(\"\\t\")\n",
        "            articles_id.append(article_id)\n",
        "            gold_labels.append(gold_label)\n",
        "            span_starts.append(span_start)\n",
        "            span_ends.append(span_end)\n",
        "    return articles_id, span_starts, span_ends, gold_labels\n",
        "\n",
        "#@title\n",
        "# loading gold labels, articles ids and sentence ids from files *.task-TC.labels in the train labels folder \n",
        "ref_articles_id, ref_span_starts, ref_span_ends, train_gold_labels = read_predictions_from_file(train_labels_file)\n",
        "print(\"Loaded %d annotations from %d articles\" % (len(ref_span_starts), len(set(ref_articles_id))))\n",
        "\n",
        "# reading data from the development set\n",
        "dev_article_ids, dev_span_starts, dev_span_ends, dev_labels = read_predictions_from_file(dev_template_labels_file)\n",
        "\n",
        "def pred_file(pred,x=True):\n",
        "  if x:\n",
        "    pred=le.inverse_transform(pred.argmax(axis=1)).tolist()\n",
        "  ##### writing predictions to file\n",
        "  with open(task_TC_output_file, \"w\") as fout:\n",
        "      for article_id, prediction, span_start, span_end in zip(dev_article_ids, pred, dev_span_starts, dev_span_ends):\n",
        "          fout.write(\"%s\\t%s\\t%s\\t%s\\n\" % (article_id, prediction, span_start, span_end))\n",
        "  print(\"Predictions written to file \" + task_TC_output_file)\n",
        "  from google.colab import files\n",
        "  files.download('./{}.txt'.format(task_TC_output_file))"
      ],
      "execution_count": 0,
      "outputs": []
    },
    {
      "cell_type": "markdown",
      "metadata": {
        "id": "YmjxNIveAgC9",
        "colab_type": "text"
      },
      "source": [
        "### **ENCODE SEQUENCES,OUTPUTS FOR BERT**"
      ]
    },
    {
      "cell_type": "code",
      "metadata": {
        "id": "3RIAaJ0DyMlF",
        "colab_type": "code",
        "cellView": "both",
        "colab": {}
      },
      "source": [
        "#@title\n",
        "le=LE()\n",
        "train_df.Sentence = train_df.Sentence.str.lower()\n",
        "sentences = train_df.Sentence.values\n",
        "\n",
        "# We need to add special tokens at the beginning and end of each sentence for BERT to work properly\n",
        "sentences = [\"[CLS] \" + sentence + \" [SEP]\" for sentence in sentences]\n",
        "train.Target=le.fit_transform(train.Target)\n",
        "labels = train.Target.values"
      ],
      "execution_count": 0,
      "outputs": []
    },
    {
      "cell_type": "code",
      "metadata": {
        "id": "yLvwVpG4gKik",
        "colab_type": "code",
        "cellView": "both",
        "outputId": "6965a509-988d-4a5b-878e-d999ceff5626",
        "colab": {
          "base_uri": "https://localhost:8080/",
          "height": 87
        }
      },
      "source": [
        "#@title\n",
        "tokenizer = BertTokenizer.from_pretrained('bert-base-uncased')\n",
        "tokenized_texts = [tokenizer.tokenize(sent) for sent in sentences]\n",
        "print (\"Tokenize the first sentence:\")\n",
        "print (tokenized_texts[0])"
      ],
      "execution_count": 0,
      "outputs": [
        {
          "output_type": "stream",
          "text": [
            "Tokenize the first sentence:\n",
            "['[CLS]', 'the', 'next', 'transmission', 'could', 'be', 'more', 'pronounced', 'or', 'stronger', '[SEP]']\n",
            "CPU times: user 1.6 s, sys: 4.38 ms, total: 1.6 s\n",
            "Wall time: 2.51 s\n"
          ],
          "name": "stdout"
        }
      ]
    },
    {
      "cell_type": "markdown",
      "metadata": {
        "id": "j4lpzOLQBFDR",
        "colab_type": "text"
      },
      "source": [
        "### **PREPARE,SPLIT INPUT FOR BERT**"
      ]
    },
    {
      "cell_type": "code",
      "metadata": {
        "id": "5nciMkYYiVX2",
        "colab_type": "code",
        "outputId": "8a244ae2-d627-4249-881f-d3a9043400bb",
        "colab": {
          "base_uri": "https://localhost:8080/",
          "height": 67,
          "referenced_widgets": [
            "5b941ca3995749d4aa137cae867c121c",
            "5d27d4976bbe410d92e69d8d3524469f",
            "cb9ca805ed0a45669669a2fbcdb6a1d4",
            "9eda9c56a8fa40c5bcc0e21c56c3b5f9",
            "e29bb371845d4bc2ac65ba733a64e7f7",
            "2123af3b9dcd404aa0679471e098d6c1",
            "8a875bc28c904e59ad7c4a617f16280b",
            "5859f8573e914827877fc8ac087f9cf6"
          ]
        }
      },
      "source": [
        "input_ids=[]\n",
        "for i in tqdm_notebook(range(len(tokenized_texts))):\n",
        "  input_ids.append(tokenizer.convert_tokens_to_ids(tokenized_texts[i]))\n",
        "\n",
        "MAX_LEN = 100\n",
        "input_ids = pad_sequences(input_ids, maxlen=MAX_LEN, dtype=\"long\", truncating=\"post\", padding=\"post\")\n",
        "\n",
        "attention_masks = []\n",
        "# Create a mask of 1s for each token followed by 0s for padding\n",
        "for seq in input_ids:\n",
        "  seq_mask = [float(i>0) for i in seq]\n",
        "  attention_masks.append(seq_mask)\n",
        "\n",
        "# SPLIT\n",
        "train_inputs, validation_inputs, train_labels, = input_ids[:len(train)], input_ids[len(train):], labels\n",
        "train_masks, validation_masks = attention_masks[:len(train)], attention_masks[len(train):]\n",
        "\n",
        "train_inputs = torch.tensor(train_inputs)\n",
        "validation_inputs = torch.tensor(validation_inputs)\n",
        "train_labels = torch.tensor(train_labels)\n",
        "validation_labels = torch.tensor(train_labels[:len(dev)])\n",
        "train_masks = torch.tensor(train_masks)\n",
        "validation_masks = torch.tensor(validation_masks)"
      ],
      "execution_count": 0,
      "outputs": [
        {
          "output_type": "display_data",
          "data": {
            "application/vnd.jupyter.widget-view+json": {
              "model_id": "5b941ca3995749d4aa137cae867c121c",
              "version_minor": 0,
              "version_major": 2
            },
            "text/plain": [
              "HBox(children=(IntProgress(value=0, max=7192), HTML(value='')))"
            ]
          },
          "metadata": {
            "tags": []
          }
        },
        {
          "output_type": "stream",
          "text": [
            "\n"
          ],
          "name": "stdout"
        }
      ]
    },
    {
      "cell_type": "markdown",
      "metadata": {
        "id": "IC2jtlOSBU4p",
        "colab_type": "text"
      },
      "source": [
        "### **TRAIN/TEST LOADERS**"
      ]
    },
    {
      "cell_type": "code",
      "metadata": {
        "id": "HrZZ0ktBisI6",
        "colab_type": "code",
        "colab": {}
      },
      "source": [
        "batch_size = 64\n",
        "\n",
        "# Create an iterator of our data with torch DataLoader. This helps save on memory during training because, unlike a for loop, \n",
        "# with an iterator the entire dataset does not need to be loaded into memory\n",
        "\n",
        "train_data = TensorDataset(train_inputs, train_masks, train_labels)\n",
        "train_sampler = RandomSampler(train_data)\n",
        "train_dataloader = DataLoader(train_data, sampler=train_sampler, batch_size=batch_size)\n",
        "\n",
        "validation_data = TensorDataset(validation_inputs, validation_masks, validation_labels)\n",
        "validation_sampler = SequentialSampler(validation_data)\n",
        "validation_dataloader = DataLoader(validation_data, sampler=validation_sampler, batch_size=batch_size)"
      ],
      "execution_count": 0,
      "outputs": []
    },
    {
      "cell_type": "markdown",
      "metadata": {
        "id": "OqJF6VwqBcKV",
        "colab_type": "text"
      },
      "source": [
        "### **SHIFT MODEL TO GPU**"
      ]
    },
    {
      "cell_type": "code",
      "metadata": {
        "id": "yirrxZErhBsn",
        "colab_type": "code",
        "colab": {}
      },
      "source": [
        "device = torch.device('cuda' if torch.cuda.is_available() else 'cpu')\n",
        "model = BertForSequenceClassification.from_pretrained('bert-base-uncased',num_labels=14)\n",
        "model.to(device)"
      ],
      "execution_count": 0,
      "outputs": []
    },
    {
      "cell_type": "markdown",
      "metadata": {
        "id": "dQs5Bu7dBrja",
        "colab_type": "text"
      },
      "source": [
        "### **SET OPTIMIZER, LR Scheduler**"
      ]
    },
    {
      "cell_type": "code",
      "metadata": {
        "id": "Y82XIcCEiueD",
        "colab_type": "code",
        "colab": {}
      },
      "source": [
        "lr = 2e-6\n",
        "max_grad_norm = 1.0\n",
        "num_total_steps = 1000\n",
        "num_warmup_steps = 100\n",
        "warmup_proportion = float(num_warmup_steps) / float(num_total_steps)  # 0.1\n",
        "\n",
        "### In PyTorch-Transformers, optimizer and schedules are splitted and instantiated like this:\n",
        "optimizer = AdamW(model.parameters(), lr=lr, correct_bias=False)  # To reproduce BertAdam specific behavior set correct_bias=False\n",
        "scheduler = WarmupLinearSchedule(optimizer, warmup_steps=num_warmup_steps, t_total=num_total_steps)  # PyTorch scheduler"
      ],
      "execution_count": 0,
      "outputs": []
    },
    {
      "cell_type": "markdown",
      "metadata": {
        "id": "okeMBZT9CPBw",
        "colab_type": "text"
      },
      "source": [
        "### **TRAINING LOOP**"
      ]
    },
    {
      "cell_type": "code",
      "metadata": {
        "id": "XLuJqZPWi7Tz",
        "colab_type": "code",
        "colab": {}
      },
      "source": [
        " def train(epochs=1,verbosity=50):\n",
        "  total_step = len(train_dataloader)\n",
        "  train_loss_set = []\n",
        "  for epoch in tqdm_notebook(range(epochs)):\n",
        "      tr_loss = 0\n",
        "      nb_tr_examples, nb_tr_steps = 0, 0\n",
        "      for i, batch in enumerate(train_dataloader):\n",
        "        batch = tuple(t.to(device) for t in batch)\n",
        "        b_input_ids, b_input_mask, b_labels = batch\n",
        "        outputs = model(b_input_ids, token_type_ids=None, attention_mask=b_input_mask, labels=b_labels)\n",
        "        loss = outputs[0]\n",
        "        tr_loss+=loss.item() \n",
        "        loss.backward()\n",
        "        optimizer.step()\n",
        "        scheduler.step()\n",
        "        optimizer.zero_grad()\n",
        "        if i>0 (i % verbosity == verbosity-1):\n",
        "          print ('Epoch [{}/{}], Step [{}/{}], Loss: {:.4f}'.format(epoch+1, epochs, i+1, total_step, tr_loss/50))\n",
        "      train_loss_set.append(tr_loss)\n",
        "  return train_loss_set"
      ],
      "execution_count": 0,
      "outputs": []
    },
    {
      "cell_type": "markdown",
      "metadata": {
        "id": "gQrXV_T8GTA-",
        "colab_type": "text"
      },
      "source": [
        "### **EVAL/META/VALIDATION**"
      ]
    },
    {
      "cell_type": "code",
      "metadata": {
        "id": "DUp4Vj1-i_2b",
        "colab_type": "code",
        "colab": {}
      },
      "source": [
        "def eval(mode='Proba'):\n",
        "  pred_proba=[]\n",
        "  with torch.no_grad():\n",
        "    correct = 0\n",
        "    total = 0\n",
        "    pred=[]\n",
        "    true=[]\n",
        "    for i, batch in enumerate(validation_dataloader):\n",
        "      batch = tuple(t.to(device) for t in batch)\n",
        "      b_input_ids, b_input_mask, b_labels = batch\n",
        "      outputs = model(b_input_ids, token_type_ids=None, attention_mask=b_input_mask)\n",
        "      predict_proba.append([outputs])\n",
        "      prediction = torch.argmax(outputs[0],dim=1)\n",
        "      pred+=[prediction.cpu()]\n",
        "      total += b_labels.size(0)\n",
        "      true += [b_labels.cpu()]\n",
        "      correct+=(prediction==b_labels).sum().item()\n",
        "  if mode=='Validation':\n",
        "    print('Test Accuracy of the model on val data is: {} %'.format(100 * correct / total))\n",
        "    return (100 * correct / total)\n",
        "  elif mode=='Proba':\n",
        "    return predict_proba\n",
        "  else:\n",
        "    pred = list(itertools.chain.from_iterable([i.tolist() for i in pred]))\n",
        "    true = list(itertools.chain.from_iterable([i.tolist() for i in true]))\n",
        "    return le.inverse_transform(pred)"
      ],
      "execution_count": 0,
      "outputs": []
    },
    {
      "cell_type": "code",
      "metadata": {
        "id": "-Ria74tIqAyD",
        "colab_type": "code",
        "colab": {}
      },
      "source": [
        "from sklearn.metrics import confusion_matrix\n",
        "from sklearn.model_selection import train_test_split\n",
        "from sklearn.metrics import classification_report\n",
        "import matplotlib.pyplot as plt\n",
        "import seaborn as sns"
      ],
      "execution_count": 0,
      "outputs": []
    },
    {
      "cell_type": "code",
      "metadata": {
        "id": "4of5-90wpn7Y",
        "colab_type": "code",
        "outputId": "2e6e64cd-9fbe-454a-805c-00673960aa4f",
        "colab": {
          "base_uri": "https://localhost:8080/",
          "height": 847
        }
      },
      "source": [
        "cm=confusion_matrix(true,pred)\n",
        "cm = cm.astype('float') / cm.sum(axis=1)[:, np.newaxis]\n",
        "plt.figure(figsize = (10,8))\n",
        "sns.heatmap(cm,annot=True)\n",
        "\n",
        "cf_rep=classification_report(true,pred)\n",
        "print(cf_rep)"
      ],
      "execution_count": 0,
      "outputs": [
        {
          "output_type": "stream",
          "text": [
            "              precision    recall  f1-score   support\n",
            "\n",
            "           0       1.00      0.04      0.07        26\n",
            "           1       0.42      0.39      0.40        59\n",
            "           2       0.00      0.00      0.00        13\n",
            "           3       0.00      0.00      0.00        22\n",
            "           4       0.25      0.38      0.30        37\n",
            "           5       0.61      0.66      0.63        97\n",
            "           6       0.41      0.38      0.39       108\n",
            "           7       0.58      0.60      0.59        50\n",
            "           8       0.71      0.84      0.77       424\n",
            "           9       0.72      0.81      0.76       201\n",
            "          10       0.63      0.59      0.61       124\n",
            "          11       0.50      0.17      0.25        30\n",
            "          12       0.00      0.00      0.00        15\n",
            "          13       0.00      0.00      0.00        20\n",
            "\n",
            "    accuracy                           0.63      1226\n",
            "   macro avg       0.42      0.35      0.34      1226\n",
            "weighted avg       0.59      0.63      0.60      1226\n",
            "\n"
          ],
          "name": "stdout"
        },
        {
          "output_type": "display_data",
          "data": {
            "image/png": "[encoded data removed]",
            "text/plain": [
              "<Figure size 720x576 with 2 Axes>"
            ]
          },
          "metadata": {
            "tags": []
          }
        }
      ]
    },
    {
      "cell_type": "code",
      "metadata": {
        "id": "6WfXMQGnqCB0",
        "colab_type": "code",
        "outputId": "37f87482-1b86-4dd8-d027-694670deccc9",
        "colab": {
          "base_uri": "https://localhost:8080/",
          "height": 52
        }
      },
      "source": [
        "\n",
        "pred_file(pred,x=False)\n"
      ],
      "execution_count": 0,
      "outputs": [
        {
          "output_type": "stream",
          "text": [
            "Loaded 6129 annotations from 357 articles\n",
            "Predictions written to file BERT.txt\n"
          ],
          "name": "stdout"
        }
      ]
    },
    {
      "cell_type": "code",
      "metadata": {
        "id": "0pBLE6-Uxgtr",
        "colab_type": "code",
        "outputId": "4bae5929-b8b4-44a1-d298-023ba1b3635d",
        "colab": {
          "base_uri": "https://localhost:8080/",
          "height": 35
        }
      },
      "source": [
        ""
      ],
      "execution_count": 0,
      "outputs": [
        {
          "output_type": "execute_result",
          "data": {
            "text/plain": [
              "array([1])"
            ]
          },
          "metadata": {
            "tags": []
          },
          "execution_count": 76
        }
      ]
    },
    {
      "cell_type": "code",
      "metadata": {
        "id": "-Kc3Cxw7xlkG",
        "colab_type": "code",
        "colab": {}
      },
      "source": [
        ""
      ],
      "execution_count": 0,
      "outputs": []
    }
  ]
}