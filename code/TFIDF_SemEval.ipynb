{
  "nbformat": 4,
  "nbformat_minor": 0,
  "metadata": {
    "colab": {
      "name": "TFIDF SemEval.ipynb",
      "provenance": [],
      "collapsed_sections": [],
      "machine_shape": "hm"
    },
    "kernelspec": {
      "name": "python3",
      "display_name": "Python 3"
    }
  },
  "cells": [
    {
      "cell_type": "code",
      "metadata": {
        "id": "mO7FRJJoBMDb",
        "colab_type": "code",
        "outputId": "90c6bfac-dc9c-49dd-95ef-14feca5a6ce3",
        "colab": {
          "base_uri": "https://localhost:8080/",
          "height": 35
        }
      },
      "source": [
        "from google.colab import drive\n",
        "drive.mount('/content/drive')"
      ],
      "execution_count": 2,
      "outputs": [
        {
          "output_type": "stream",
          "text": [
            "Drive already mounted at /content/drive; to attempt to forcibly remount, call drive.mount(\"/content/drive\", force_remount=True).\n"
          ],
          "name": "stdout"
        }
      ]
    },
    {
      "cell_type": "code",
      "metadata": {
        "id": "A-Rx3h3qBM0R",
        "colab_type": "code",
        "colab": {
          "base_uri": "https://localhost:8080/",
          "height": 72
        },
        "outputId": "76f41ae2-2cca-449b-8252-f1a31995dc3c"
      },
      "source": [
        "import glob\n",
        "import os.path\n",
        "import numpy as np\n",
        "import sys\n",
        "import codecs\n",
        "import json\n",
        "import pandas as pd\n",
        "import re\n",
        "import matplotlib.pyplot as plt\n",
        "import seaborn as sns\n",
        "from sklearn.preprocessing import StandardScaler\n",
        "from sklearn.model_selection import RandomizedSearchCV, GridSearchCV\n",
        "from sklearn.naive_bayes import MultinomialNB, ComplementNB\n",
        "from sklearn.linear_model import LogisticRegression\n",
        "from sklearn.metrics import confusion_matrix\n",
        "from sklearn.model_selection import train_test_split\n",
        "from sklearn.metrics import classification_report\n",
        "from sklearn.ensemble import RandomForestClassifier\n",
        "from sklearn.externals import joblib"
      ],
      "execution_count": 3,
      "outputs": [
        {
          "output_type": "stream",
          "text": [
            "/usr/local/lib/python3.6/dist-packages/sklearn/externals/joblib/__init__.py:15: FutureWarning: sklearn.externals.joblib is deprecated in 0.21 and will be removed in 0.23. Please import this functionality directly from joblib, which can be installed with: pip install joblib. If this warning is raised when loading pickled models, you may need to re-serialize those models with scikit-learn 0.21+.\n",
            "  warnings.warn(msg, category=FutureWarning)\n"
          ],
          "name": "stderr"
        }
      ]
    },
    {
      "cell_type": "code",
      "metadata": {
        "id": "kcfYMNWUBd3M",
        "colab_type": "code",
        "colab": {}
      },
      "source": [
        "train_folder = \"./drive/My Drive/datasets/train-articles\" # check that the path to the datasets folder is correct, \n",
        "dev_folder = \"./drive/My Drive/datasets/dev-articles\"     # if not adjust these variables accordingly\n",
        "train_labels_file = \"./drive/My Drive/datasets/train-task2-TC.labels\"\n",
        "dev_template_labels_file = \"./drive/My Drive/datasets/dev-task-TC-template.out\"\n",
        "task_TC_output_file = \"TFIDF_LR.txt\"\n",
        "\n",
        "def read_articles_from_file_list(folder_name, file_pattern=\"*.txt\"):\n",
        "    \"\"\"\n",
        "    Read articles from files matching patterns <file_pattern> from  \n",
        "    the directory <folder_name>. \n",
        "    The content of the article is saved in the dictionary whose key\n",
        "    is the id of the article (extracted from the file name).\n",
        "    Each element of <sentence_list> is one line of the article.\n",
        "    \"\"\"\n",
        "    file_list = glob.glob(os.path.join(folder_name, file_pattern))\n",
        "    articles = {}\n",
        "    article_id_list, sentence_id_list, sentence_list = ([], [], [])\n",
        "    for filename in sorted(file_list):\n",
        "        article_id = os.path.basename(filename).split(\".\")[0][7:]\n",
        "        with codecs.open(filename, \"r\", encoding=\"utf8\") as f:\n",
        "            articles[article_id] = f.read()\n",
        "    return articles\n",
        "\n",
        "\n",
        "def read_predictions_from_file(filename):\n",
        "    \"\"\"\n",
        "    Reader for the gold file and the template output file. \n",
        "    Return values are four arrays with article ids, labels \n",
        "    (or ? in the case of a template file), begin of a fragment, \n",
        "    end of a fragment. \n",
        "    \"\"\"\n",
        "    articles_id, span_starts, span_ends, gold_labels = ([], [], [], [])\n",
        "    with open(filename, \"r\") as f:\n",
        "        for row in f.readlines():\n",
        "            article_id, gold_label, span_start, span_end = row.rstrip().split(\"\\t\")\n",
        "            articles_id.append(article_id)\n",
        "            gold_labels.append(gold_label)\n",
        "            span_starts.append(span_start)\n",
        "            span_ends.append(span_end)\n",
        "    return articles_id, span_starts, span_ends, gold_labels\n",
        "\n",
        "def compute_features_b(articles, span_starts, span_ends):\n",
        "    # only one feature, the length of the span\n",
        "    return np.array([ int(sp_ends)-int(sp_starts) for sp_starts, sp_ends in zip(span_starts, span_ends) ]).reshape(-1, 1)\n",
        "\n",
        "def clean(text):\n",
        "    text=text.lower()\n",
        "    text = re.sub(r'^https?:\\/\\/.*[\\r\\n]*', '', text, flags=re.MULTILINE)\n",
        "    text=re.sub('[“\"”]',' \" ',text)\n",
        "    retain='[^abcdefghijklmnopqrstuvwxyz!#?\". ]'\n",
        "    text=re.sub('[()–-]',' ',text)\n",
        "    text=re.sub(retain,'',text)\n",
        "    text=re.sub('[.]',' . ',text)\n",
        "    text=text.replace('?',' ? ')\n",
        "    text=text.replace('#',' # ')\n",
        "    text=text.replace('!',' ! ')\n",
        "    return ' '.join(text.split())\n",
        "\n",
        "# loading articles' content from *.txt files in the train folder\n",
        "articles = read_articles_from_file_list(train_folder)\n",
        "dev_articles = read_articles_from_file_list(dev_folder)\n",
        "\n",
        "def read_span(id,span,dev=False):\n",
        "    if dev:\n",
        "        return dev_articles[id][span[0]:span[1]]\n",
        "    else:\n",
        "        return articles[id][span[0]:span[1]]"
      ],
      "execution_count": 0,
      "outputs": []
    },
    {
      "cell_type": "code",
      "metadata": {
        "id": "5PRanBsQ5iRH",
        "colab_type": "code",
        "outputId": "b0c95942-1497-4c41-84da-5b4120b0b443",
        "colab": {
          "base_uri": "https://localhost:8080/",
          "height": 35
        }
      },
      "source": [
        "# loading gold labels, articles ids and sentence ids from files *.task-TC.labels in the train labels folder \n",
        "ref_articles_id, ref_span_starts, ref_span_ends, train_gold_labels = read_predictions_from_file(train_labels_file)\n",
        "print(\"Loaded %d annotations from %d articles\" % (len(ref_span_starts), len(set(ref_articles_id))))\n",
        "\n",
        "# reading data from the development set\n",
        "dev_article_ids, dev_span_starts, dev_span_ends, dev_labels = read_predictions_from_file(dev_template_labels_file)"
      ],
      "execution_count": 5,
      "outputs": [
        {
          "output_type": "stream",
          "text": [
            "Loaded 6129 annotations from 357 articles\n"
          ],
          "name": "stdout"
        }
      ]
    },
    {
      "cell_type": "code",
      "metadata": {
        "id": "PsaJXGbT52sV",
        "colab_type": "code",
        "colab": {}
      },
      "source": [
        "in_data=[(id, [int(sps),int(spe)])for id, sps, spe in zip(ref_articles_id, ref_span_starts, ref_span_ends)]\n",
        "df=pd.DataFrame(in_data,columns=['ID','Span'])\n",
        "df['Sentence']=[read_span(id,span) for id,span in zip(df['ID'].tolist(),df['Span'].tolist())]\n",
        "df['Sentence']=df['Sentence'].apply(lambda x : clean(x))\n",
        "df['Span']=df['Span'].apply(lambda x : x[1]-x[0])\n",
        "df['Target']=train_gold_labels\n",
        "df=df.drop_duplicates()"
      ],
      "execution_count": 0,
      "outputs": []
    },
    {
      "cell_type": "code",
      "metadata": {
        "id": "kSjI32Ah6MgM",
        "colab_type": "code",
        "colab": {}
      },
      "source": [
        "dev_data=[(id, [int(sps),int(spe)])for id, sps, spe in zip(dev_article_ids, dev_span_starts, dev_span_ends)]\n",
        "df_dev=pd.DataFrame(dev_data,columns=['ID','Span'])\n",
        "df_dev['Sentence']=[read_span(id,span,dev=True) for id,span in zip(df_dev['ID'].tolist(),df_dev['Span'].tolist())]\n",
        "df_dev['Sentence']=df_dev['Sentence'].apply(lambda x : clean(x))\n",
        "df_dev['Span']=df_dev['Span'].apply(lambda x : x[1]-x[0])"
      ],
      "execution_count": 0,
      "outputs": []
    },
    {
      "cell_type": "code",
      "metadata": {
        "id": "gFjoNwhz6OX9",
        "colab_type": "code",
        "colab": {}
      },
      "source": [
        "from io import StringIO\n",
        "from sklearn.feature_extraction.text import TfidfVectorizer\n",
        "from sklearn.feature_selection import chi2\n",
        "from IPython.display import display\n",
        "from sklearn.model_selection import train_test_split\n",
        "from sklearn.feature_extraction.text import TfidfTransformer"
      ],
      "execution_count": 0,
      "outputs": []
    },
    {
      "cell_type": "code",
      "metadata": {
        "colab_type": "code",
        "id": "-MOx8RFfSrK6",
        "colab": {}
      },
      "source": [
        "tfidf = TfidfVectorizer(sublinear_tf=True, min_df=5,ngram_range=(2,6),stop_words='english',analyzer='char')\n",
        "tfidf_w = TfidfVectorizer(sublinear_tf=True, min_df=6,ngram_range=(1,3),stop_words='english',analyzer='word')\n",
        "features = np.append(tfidf.fit_transform(df.Sentence).toarray(),df['Span'].values.reshape(-1,1),axis=1).astype('float16')\n",
        "features = np.append(tfidf_w.fit_transform(df.Sentence).toarray(),features,axis=1).astype('float16')\n",
        "X_train, X_test, Y_train, Y_test = train_test_split(features,df['Target'],stratify=df['Target'],test_size=0.2,random_state=1234)"
      ],
      "execution_count": 0,
      "outputs": []
    },
    {
      "cell_type": "code",
      "metadata": {
        "id": "O7pFD3e38Jqm",
        "colab_type": "code",
        "colab": {}
      },
      "source": [
        "model_lr=LogisticRegression(penalty='l2', class_weight='balanced', solver=\"liblinear\", max_iter=500)\n",
        "model_lr.fit(X_train, Y_train)\n",
        "pred_lr=model_lr.predict(X_test)"
      ],
      "execution_count": 0,
      "outputs": []
    },
    {
      "cell_type": "code",
      "metadata": {
        "colab_type": "code",
        "outputId": "b32e0023-f34a-4ac8-fff0-58b8e589c5e7",
        "id": "VBjrbYkBIv3J",
        "colab": {
          "base_uri": "https://localhost:8080/",
          "height": 501
        }
      },
      "source": [
        "cm=confusion_matrix(Y_test,pred_lr)\n",
        "cm = cm.astype('float') / cm.sum(axis=1)[:, np.newaxis]\n",
        "plt.figure(figsize = (10,8))\n",
        "sns.heatmap(cm,annot=True)"
      ],
      "execution_count": 25,
      "outputs": [
        {
          "output_type": "execute_result",
          "data": {
            "text/plain": [
              "<matplotlib.axes._subplots.AxesSubplot at 0x7fd19e6d04a8>"
            ]
          },
          "metadata": {
            "tags": []
          },
          "execution_count": 25
        },
        {
          "output_type": "display_data",
          "data": {
            "image/png": "[encoded data removed]",
            "text/plain": [
              "<Figure size 720x576 with 2 Axes>"
            ]
          },
          "metadata": {
            "tags": []
          }
        }
      ]
    },
    {
      "cell_type": "code",
      "metadata": {
        "id": "1ZkCWI5m879H",
        "colab_type": "code",
        "outputId": "32571de7-87fb-4a5d-9519-a25b1978c3b7",
        "colab": {
          "base_uri": "https://localhost:8080/",
          "height": 381
        }
      },
      "source": [
        "print(classification_report(Y_test,pred_lr))"
      ],
      "execution_count": 26,
      "outputs": [
        {
          "output_type": "stream",
          "text": [
            "                                    precision    recall  f1-score   support\n",
            "\n",
            "               Appeal_to_Authority       0.35      0.31      0.33        29\n",
            "          Appeal_to_fear-prejudice       0.36      0.34      0.35        59\n",
            "    Bandwagon,Reductio_ad_hitlerum       0.19      0.20      0.19        15\n",
            "           Black-and-White_Fallacy       0.17      0.19      0.18        21\n",
            "         Causal_Oversimplification       0.17      0.14      0.16        42\n",
            "                             Doubt       0.52      0.60      0.56        98\n",
            "         Exaggeration,Minimisation       0.41      0.39      0.40        92\n",
            "                       Flag-Waving       0.51      0.68      0.58        44\n",
            "                   Loaded_Language       0.66      0.75      0.70       415\n",
            "             Name_Calling,Labeling       0.66      0.48      0.56       201\n",
            "                        Repetition       0.31      0.21      0.25        80\n",
            "                           Slogans       0.36      0.50      0.42        24\n",
            "       Thought-terminating_Cliches       0.41      0.47      0.44        15\n",
            "Whataboutism,Straw_Men,Red_Herring       0.24      0.19      0.21        21\n",
            "\n",
            "                          accuracy                           0.53      1156\n",
            "                         macro avg       0.38      0.39      0.38      1156\n",
            "                      weighted avg       0.52      0.53      0.52      1156\n",
            "\n"
          ],
          "name": "stdout"
        }
      ]
    },
    {
      "cell_type": "code",
      "metadata": {
        "id": "wlsPxq_CJpc_",
        "colab_type": "code",
        "colab": {
          "base_uri": "https://localhost:8080/",
          "height": 176
        },
        "outputId": "d765bb91-4707-4515-cec6-c27abefc38be"
      },
      "source": [
        "DF=pd.concat([df,df_dev])\n",
        "features = tfidf.fit_transform(DF.Sentence).toarray().astype('float16')\n",
        "features_w = tfidf.fit_transform(DF.Sentence).toarray().astype('float16')\n",
        "features = np.append(features,DF['Span'].values.reshape(-1,1),axis=1)\n",
        "features= np.append(features,features_w,axis=1)"
      ],
      "execution_count": 27,
      "outputs": [
        {
          "output_type": "stream",
          "text": [
            "/usr/local/lib/python3.6/dist-packages/ipykernel_launcher.py:1: FutureWarning: Sorting because non-concatenation axis is not aligned. A future version\n",
            "of pandas will change to not sort by default.\n",
            "\n",
            "To accept the future behavior, pass 'sort=False'.\n",
            "\n",
            "To retain the current behavior and silence the warning, pass 'sort=True'.\n",
            "\n",
            "  \"\"\"Entry point for launching an IPython kernel.\n"
          ],
          "name": "stderr"
        }
      ]
    },
    {
      "cell_type": "code",
      "metadata": {
        "id": "eFdeE5j5Jwgm",
        "colab_type": "code",
        "colab": {}
      },
      "source": [
        "Train_X, Train_Y = features[:5780], DF[:5780]['Target']\n",
        "Test=features[5780:]"
      ],
      "execution_count": 0,
      "outputs": []
    },
    {
      "cell_type": "code",
      "metadata": {
        "id": "qpfH4RLCqajN",
        "colab_type": "code",
        "colab": {}
      },
      "source": [
        "model_lr=LogisticRegression(penalty='l2', class_weight='balanced', solver=\"liblinear\", max_iter=500)\n",
        "model_lr.fit(Train_X, Train_Y)\n",
        "pred_lr=model_lr.predict(Test)"
      ],
      "execution_count": 0,
      "outputs": []
    },
    {
      "cell_type": "code",
      "metadata": {
        "id": "XgmoNSSD9Qi0",
        "colab_type": "code",
        "outputId": "28513ab6-29b5-46af-e133-b882e71ebff5",
        "colab": {
          "base_uri": "https://localhost:8080/",
          "height": 35
        }
      },
      "source": [
        "##### writing predictions to file\n",
        "with open(task_TC_output_file, \"w\") as fout:\n",
        "    for article_id, prediction, span_start, span_end in zip(dev_article_ids, pred_lr, dev_span_starts, dev_span_ends):\n",
        "        fout.write(\"%s\\t%s\\t%s\\t%s\\n\" % (article_id, prediction, span_start, span_end))\n",
        "print(\"Predictions written to file \" + task_TC_output_file)"
      ],
      "execution_count": 30,
      "outputs": [
        {
          "output_type": "stream",
          "text": [
            "Predictions written to file TFIDF_LR.txt\n"
          ],
          "name": "stdout"
        }
      ]
    },
    {
      "cell_type": "code",
      "metadata": {
        "id": "T-AS9His_T4h",
        "colab_type": "code",
        "colab": {}
      },
      "source": [
        "from google.colab import files\n",
        "files.download('./TFIDF_LR.txt')"
      ],
      "execution_count": 0,
      "outputs": []
    }
  ]
}