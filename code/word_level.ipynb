{
 "cells": [
  {
   "cell_type": "code",
   "execution_count": 1,
   "metadata": {},
   "outputs": [],
   "source": [
    "import torch\n",
    "import torch.nn as nn\n",
    "from torch.utils.data import Dataset, DataLoader\n",
    "\n",
    "import os\n",
    "from modules.utils import *"
   ]
  },
  {
   "cell_type": "code",
   "execution_count": 2,
   "metadata": {},
   "outputs": [],
   "source": [
    "article_directory = '../datasets/train-articles/'\n",
    "label_directory = '../datasets/train-labels-task1-span-identification/'"
   ]
  },
  {
   "cell_type": "code",
   "execution_count": 3,
   "metadata": {},
   "outputs": [],
   "source": [
    "article_fnames = os.listdir(article_directory)\n",
    "article_ids = [int(fname[7:16]) for fname in article_fnames]"
   ]
  },
  {
   "cell_type": "code",
   "execution_count": 4,
   "metadata": {},
   "outputs": [],
   "source": [
    "data = [read_article(idx) for idx in article_ids]"
   ]
  },
  {
   "cell_type": "code",
   "execution_count": 17,
   "metadata": {
    "scrolled": true
   },
   "outputs": [
    {
     "data": {
      "text/plain": [
       "'How Do You Like Paying For Sexual Harassment Settlements from Your Congress, America?\\n\\nHow Do You Like Paying For Sexual Harassment Settlements from Your Congress, America?\\nPlease help support us with cryptocurrency donations.\\nThank you!\\nWe finally have the official numbers, and they aren’t pretty.\\nReid Wilson, a correspondent for the Hill, has posted to Twitter a year by year breakdown of sexual harassment settlements and awards that he received from the Congressional Office of Compliance.\\nI went ahead and added up each column, and what I discovered is that 264 cases of sexual harassment in Congress have been settled since 1997, and the total amount awarded in those settlements comes to a grand total of $17,250,854.\\nSo where has the $17,250,854 come from to pay those settlements?\\nThat money has come from the taxpayers of course.\\nThat means that you and I have been paying to cover up the epidemic of sexual harassment that has been taking place on Capitol Hill.\\nWhen U.S. Representative Jackie Speier originally told us that more than 15 million dollars had been paid out to victims of sexual harassment in recent years, I was envisioning a few dozen cases at most.\\nI had no idea that the total number of cases would actually be well over 200.\\nIf our leaders were serious about stopping this from happening, they would pass a law making it mandatory that all cases of sexual harassment in Congress be made public, and that members of Congress would be personally responsible for paying out any settlements.\\nIf such a law was instituted, I guarantee you that sexual harassment on Capitol Hill would come to a screeching halt.\\nBut they don’t want it to stop.\\nFor many in Congress, having so many attractive young women around is one of the key benefits of the job.\\nI included the following quote from CNN in an article the other day, but I also believe that it fits just perfectly here…\\nIn an environment with “so many young women,” said one ex-House aide, the men “have no self-control.” “Amongst ourselves, we know,” a former Senate staffer said of the lawmakers with the worst reputations.\\nAnd sometimes, the sexual advances from members of Congress or senior aides are reciprocated in the hopes of advancing one’s career — what one political veteran bluntly referred to as a “sex trade on Capitol Hill.”\\nDo you want to stop this from happening?\\nIt isn’t going to stop until we boot out the corrupt career politicians that are engaging in this type of behavior.\\nSo I am asking you to support my campaign and other “grassroots deplorables” that are running for office all over the nation.\\nMorality really matters when it comes to serving in public office, and we are not going to send people that engage in sexually inappropriate behavior to Washington anymore.\\nAnd I am calling on Congress to immediately release the details of all of the 264 cases of sexual harassment that have been settled since 1997.\\nThe American people have a right to know, and those that engaged in this type of behavior do not have a right to hide.\\nIt is time to drain the swamp, and this would be a really good place to start.\\nArticle posted with permission from End of the American Dream\\n'"
      ]
     },
     "execution_count": 17,
     "metadata": {},
     "output_type": "execute_result"
    }
   ],
   "source": [
    "text, spans = data[0]\n",
    "text"
   ]
  },
  {
   "cell_type": "code",
   "execution_count": 18,
   "metadata": {},
   "outputs": [],
   "source": [
    "getWordSpans(text)"
   ]
  },
  {
   "cell_type": "code",
   "execution_count": 12,
   "metadata": {},
   "outputs": [
    {
     "data": {
      "text/plain": [
       "'Ex-Navy sailor pardoned by Trump says he\\'s suing Comey and Obama\\n\\nA former Navy sailor who is one of five people to receive a pardon from President Donald Trump is planning to file a lawsuit against Obama administration officials, alleging that he was subject to unequal protection of the law.\\nSpecifically, Kristian Saucier, who served a year in federal prison for taking photos of classified sections of the submarine on which he worked, argues that the same officials who meted out punishment to him for his actions chose to be lenient with Hillary Clinton in her use of a private email server and handling of classified information.\\nHis lawyer, Ronald Daigle, told Fox News on Monday that the lawsuit, which he expects to file soon in Manhattan, will name the U.S. Department of Justice, former FBI Director James Comey and former President Barack Obama as defendants, among others.\\n“They interpreted the law in my case to say it was criminal,” Saucier told Fox News, referring to prosecuting authorities in his case, “but they didn’t prosecute Hillary Clinton.\\nHillary is still walking free.\\nTwo guys on my ship did the same thing and weren’t treated as criminals.\\nWe want them to correct the wrong.”\\nDaigle said that a notice about the pending lawsuit was sent to the Department of Justice and others included in it in December.\\nThere is usually a six-month period that must lapse before the lawsuit actually is filed.\\n“We’ll highlight the differences in the way Hillary Clinton was prosecuted and how my client was prosecuted,” Daigle said.\\n“We’re seeking to cast a light on this to show that there’s a two-tier justice system and we want it to be corrected.”\\nWhile campaigning, and after taking office, Trump frequently voiced support for Saucier, who in March became the second person he pardoned.\\nTrump often compared the Obama administration’s handling of Saucier’s case with that of Clinton.\\nSaucier, who lives in Vermont, pleaded guilty in 2016 to taking photos inside the USS Alexandria while it was stationed in Groton, Connecticut, in 2009.\\nHe said he only wanted service mementos, but federal prosecutors argued he was a disgruntled sailor who had put national security at risk by taking photos showing the submarine\\'s propulsion system and reactor compartment and then obstructed justice by destroying a laptop and camera.\\nSaucier said that he recognized he had erred in taking the photos, which he said he wanted to show only to his family to show them where he worked.\\nBut he lashed out at Obama officials, saying that his prosecution was politically motivated, prompted by sensitivity about classified information amid the scandal involving Clinton\\'s emails.\\n“My case was usually something handled by military courts,” he said.\\n“They used me as an example because of [the backlash over] Hillary Clinton.”\\nSaucier, 31, said that the pardon has enabled him to pick up the pieces and rebuild his life with his wife and young daughter.\\nA felony conviction left him scrambling to find work; he finally landed a job collecting garbage.\\nNow, he works on design and engineering projects for an industrial boiler company.\\n“Things are starting to go in the right direction,” Saucier said.\\n“I work with a group of really great people, I get to use my skills set.”\\nBecause of the loss of income during his imprisonment, as well as earning below his potential when he collected garbage, he and his wife Sadie lost their home to foreclosure.\\nDebt collectors called and his cars were repossessed.\\n“With a pardon there’s no magic wand that that gets waved and makes everything right,” he said, “But I try to stay positive and look forward.”\\nHe praises the pardons that Trump has granted, and takes exception at the criticism.\\n“The Obama administration singled out Dinesh for things most people don’t even get charged for,” Saucier said.\\n“President Trump noticed that my career was exemplary and that I didn’t deserve what happened to me.\\nConservative commentator Dinesh D\\'Souza, who was pardoned by Trump last week, had pleaded guilty to campaign finance fraud.\\nTrump tweeted Thursday: \"Will be giving a Full Pardon to Dinesh D\\'Souza today.\\nHe was treated very unfairly by our government!\"\\nD\\'Souza was sentenced in 2014 to five years of probation after he pleaded guilty to violating federal election law by making illegal contributions to a U.S. Senate campaign in the names of others.\\nThe Associated Press contributed to this report.\\n'"
      ]
     },
     "execution_count": 12,
     "metadata": {},
     "output_type": "execute_result"
    }
   ],
   "source": [
    "text, spans = data[1]\n",
    "text"
   ]
  },
  {
   "cell_type": "code",
   "execution_count": 63,
   "metadata": {},
   "outputs": [
    {
     "data": {
      "text/plain": [
       "[4440, 4440]"
      ]
     },
     "execution_count": 63,
     "metadata": {},
     "output_type": "execute_result"
    }
   ],
   "source": [
    "getWordSpans(text)"
   ]
  }
 ],
 "metadata": {
  "kernelspec": {
   "display_name": "Python 3",
   "language": "python",
   "name": "python3"
  },
  "language_info": {
   "codemirror_mode": {
    "name": "ipython",
    "version": 3
   },
   "file_extension": ".py",
   "mimetype": "text/x-python",
   "name": "python",
   "nbconvert_exporter": "python",
   "pygments_lexer": "ipython3",
   "version": "3.6.8"
  }
 },
 "nbformat": 4,
 "nbformat_minor": 2
}
