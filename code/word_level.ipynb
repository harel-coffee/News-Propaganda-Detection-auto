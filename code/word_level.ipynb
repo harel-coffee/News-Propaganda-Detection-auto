{
 "cells": [
  {
   "cell_type": "code",
   "execution_count": 1,
   "metadata": {},
   "outputs": [],
   "source": [
    "import torch\n",
    "import torch.nn as nn\n",
    "from torch.utils.data import Dataset, DataLoader\n",
    "\n",
    "import os\n",
    "from modules.utils import *"
   ]
  },
  {
   "cell_type": "code",
   "execution_count": 2,
   "metadata": {},
   "outputs": [],
   "source": [
    "article_directory = '../datasets/train-articles/'\n",
    "label_directory = '../datasets/train-labels-task1-span-identification/'"
   ]
  },
  {
   "cell_type": "code",
   "execution_count": 3,
   "metadata": {},
   "outputs": [],
   "source": [
    "article_fnames = os.listdir(article_directory)\n",
    "article_ids = [int(fname[7:16]) for fname in article_fnames]"
   ]
  },
  {
   "cell_type": "code",
   "execution_count": 4,
   "metadata": {},
   "outputs": [],
   "source": [
    "data_raw = [read_article(idx) for idx in article_ids]"
   ]
  },
  {
   "cell_type": "code",
   "execution_count": 5,
   "metadata": {},
   "outputs": [],
   "source": [
    "vocab_list = []\n",
    "for i in range(len(data_raw)):\n",
    "    text = data_raw[i][0]\n",
    "    wordlist = getWordSpans(text)\n",
    "    try:\n",
    "        for word in wordlist:\n",
    "            if text[word[0]:word[1]] not in vocab_list:\n",
    "                vocab_list.append(text[word[0]:word[1]])\n",
    "    except:\n",
    "        print(i, \" has an error\")"
   ]
  }
 ],
 "metadata": {
  "kernelspec": {
   "display_name": "Python 3",
   "language": "python",
   "name": "python3"
  },
  "language_info": {
   "codemirror_mode": {
    "name": "ipython",
    "version": 3
   },
   "file_extension": ".py",
   "mimetype": "text/x-python",
   "name": "python",
   "nbconvert_exporter": "python",
   "pygments_lexer": "ipython3",
   "version": "3.6.8"
  }
 },
 "nbformat": 4,
 "nbformat_minor": 2
}
