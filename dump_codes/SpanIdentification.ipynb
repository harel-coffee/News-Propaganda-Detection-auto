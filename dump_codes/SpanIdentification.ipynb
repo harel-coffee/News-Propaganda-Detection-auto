{
 "cells": [
  {
   "cell_type": "code",
   "execution_count": 1,
   "metadata": {},
   "outputs": [],
   "source": [
    "def getWordSpans(text):\n",
    "    wordlist=[]\n",
    "    def trans(text,pointer=0):\n",
    "        if pointer==len(text)-1:\n",
    "            return True\n",
    "        else:\n",
    "            while(not text[pointer].isalpha() and pointer<len(text)-1):\n",
    "                pointer=pointer+1\n",
    "            s=pointer\n",
    "            while(text[pointer].isalpha() and pointer<len(text)-1):\n",
    "                pointer=pointer+1\n",
    "            wordlist.append([s,pointer])\n",
    "            return trans(text,pointer)\n",
    "    try:\n",
    "        trans(text)\n",
    "    except :\n",
    "        return -1\n",
    "    if(wordlist[-1][1]==wordlist[-1][0]):\n",
    "        wordlist=wordlist[-1]\n",
    "    if(text[-1].isalpha()):\n",
    "        wordlist[-1][1]+=1\n",
    "    return wordlist\n",
    "\n",
    "def getCharSpans(prediction,wordlist):\n",
    "    charSpans=[]\n",
    "    def getSpan(prediction,wordlist):\n",
    "        for i in range(len(prediction)):\n",
    "            if(i==0):\n",
    "                if(prediction[i]==1):\n",
    "                    charSpans.append(wordlist[0][0])\n",
    "            elif(prediction[i]==0 and prediction[i-1]==1):\n",
    "                charSpans.append(wordlist[i-1][1])\n",
    "            elif(prediction[i]==1 and prediction[i-1]==0):\n",
    "                charSpans.append(wordlist[i][0])\n",
    "            if(i==len(prediction)-1 and prediction[i]==1):\n",
    "                charSpans.append(wordlist[-1][1])\n",
    "    getSpan(prediction,wordlist)\n",
    "    return [[charSpans[i],charSpans[i+1]] for i in range(0,len(charSpans),2)]\n",
    "\n",
    "def pred_span(text,prediction):\n",
    "    wordlist=getWordSpans(text)\n",
    "    return getCharSpans(prediction,wordlist)"
   ]
  },
  {
   "cell_type": "code",
   "execution_count": 2,
   "metadata": {},
   "outputs": [
    {
     "name": "stdout",
     "output_type": "stream",
     "text": [
      "[[6, 34], [44, 63]]\n",
      "amigo ?Question 'Quotes' now\n",
      "new n/n/nExtraLines\n"
     ]
    }
   ],
   "source": [
    "text=\"Hola !amigo ?Question 'Quotes' now see some new n/n/nExtraLines\"\n",
    "pred=[0,1,1,1,1,0,0,1,1]\n",
    "spans = pred_span(text,pred)\n",
    "print(spans)\n",
    "for span in spans:\n",
    "    print(text[span[0]:span[1]])"
   ]
  },
  {
   "cell_type": "code",
   "execution_count": 5,
   "metadata": {},
   "outputs": [],
   "source": [
    "text=\"Hola !amigo ?Question 'Quotes' now see some new n/n/nExtraLines\""
   ]
  },
  {
   "cell_type": "code",
   "execution_count": 6,
   "metadata": {},
   "outputs": [],
   "source": [
    "spans = pred_span(text,pred)"
   ]
  },
  {
   "cell_type": "code",
   "execution_count": 7,
   "metadata": {},
   "outputs": [
    {
     "data": {
      "text/plain": [
       "[[6, 34], [44, 63]]"
      ]
     },
     "execution_count": 7,
     "metadata": {},
     "output_type": "execute_result"
    }
   ],
   "source": []
  },
  {
   "cell_type": "code",
   "execution_count": null,
   "metadata": {},
   "outputs": [],
   "source": []
  }
 ],
 "metadata": {
  "kernelspec": {
   "display_name": "Python 3",
   "language": "python",
   "name": "python3"
  },
  "language_info": {
   "codemirror_mode": {
    "name": "ipython",
    "version": 3
   },
   "file_extension": ".py",
   "mimetype": "text/x-python",
   "name": "python",
   "nbconvert_exporter": "python",
   "pygments_lexer": "ipython3",
   "version": "3.6.8"
  }
 },
 "nbformat": 4,
 "nbformat_minor": 2
}
