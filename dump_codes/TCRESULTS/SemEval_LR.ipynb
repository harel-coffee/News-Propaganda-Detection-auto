{
  "nbformat": 4,
  "nbformat_minor": 0,
  "metadata": {
    "colab": {
      "name": "SemEval LR",
      "provenance": []
    },
    "kernelspec": {
      "name": "python3",
      "display_name": "Python 3"
    },
    "widgets": {
      "application/vnd.jupyter.widget-state+json": {
        "65b2c391e68341f7895b1961fd86cfd5": {
          "model_module": "@jupyter-widgets/controls",
          "model_name": "HBoxModel",
          "state": {
            "_view_name": "HBoxView",
            "_dom_classes": [],
            "_model_name": "HBoxModel",
            "_view_module": "@jupyter-widgets/controls",
            "_model_module_version": "1.5.0",
            "_view_count": null,
            "_view_module_version": "1.5.0",
            "box_style": "",
            "layout": "IPY_MODEL_faa58cbc73b3497190f5ded5062e4a6d",
            "_model_module": "@jupyter-widgets/controls",
            "children": [
              "IPY_MODEL_9daecf202d3349b38cd79ddefb79200c",
              "IPY_MODEL_13fe12bf475e48298814526dc7f8a2a5"
            ]
          }
        },
        "faa58cbc73b3497190f5ded5062e4a6d": {
          "model_module": "@jupyter-widgets/base",
          "model_name": "LayoutModel",
          "state": {
            "_view_name": "LayoutView",
            "grid_template_rows": null,
            "right": null,
            "justify_content": null,
            "_view_module": "@jupyter-widgets/base",
            "overflow": null,
            "_model_module_version": "1.2.0",
            "_view_count": null,
            "flex_flow": null,
            "width": null,
            "min_width": null,
            "border": null,
            "align_items": null,
            "bottom": null,
            "_model_module": "@jupyter-widgets/base",
            "top": null,
            "grid_column": null,
            "overflow_y": null,
            "overflow_x": null,
            "grid_auto_flow": null,
            "grid_area": null,
            "grid_template_columns": null,
            "flex": null,
            "_model_name": "LayoutModel",
            "justify_items": null,
            "grid_row": null,
            "max_height": null,
            "align_content": null,
            "visibility": null,
            "align_self": null,
            "height": null,
            "min_height": null,
            "padding": null,
            "grid_auto_rows": null,
            "grid_gap": null,
            "max_width": null,
            "order": null,
            "_view_module_version": "1.2.0",
            "grid_template_areas": null,
            "object_position": null,
            "object_fit": null,
            "grid_auto_columns": null,
            "margin": null,
            "display": null,
            "left": null
          }
        },
        "9daecf202d3349b38cd79ddefb79200c": {
          "model_module": "@jupyter-widgets/controls",
          "model_name": "IntProgressModel",
          "state": {
            "_view_name": "ProgressView",
            "style": "IPY_MODEL_cd07d44c1d644a5d8a1d0634124a00e6",
            "_dom_classes": [],
            "description": "100%",
            "_model_name": "IntProgressModel",
            "bar_style": "success",
            "max": 613,
            "_view_module": "@jupyter-widgets/controls",
            "_model_module_version": "1.5.0",
            "value": 613,
            "_view_count": null,
            "_view_module_version": "1.5.0",
            "orientation": "horizontal",
            "min": 0,
            "description_tooltip": null,
            "_model_module": "@jupyter-widgets/controls",
            "layout": "IPY_MODEL_d820686a3ccd440196437b1cc323102c"
          }
        },
        "13fe12bf475e48298814526dc7f8a2a5": {
          "model_module": "@jupyter-widgets/controls",
          "model_name": "HTMLModel",
          "state": {
            "_view_name": "HTMLView",
            "style": "IPY_MODEL_0680d03a30dc45fca3b6fce3e5175a57",
            "_dom_classes": [],
            "description": "",
            "_model_name": "HTMLModel",
            "placeholder": "​",
            "_view_module": "@jupyter-widgets/controls",
            "_model_module_version": "1.5.0",
            "value": " 613/613 [00:00&lt;00:00, 1832.75it/s]",
            "_view_count": null,
            "_view_module_version": "1.5.0",
            "description_tooltip": null,
            "_model_module": "@jupyter-widgets/controls",
            "layout": "IPY_MODEL_01d4a2b370de4d8bbcfb31be810a1168"
          }
        },
        "cd07d44c1d644a5d8a1d0634124a00e6": {
          "model_module": "@jupyter-widgets/controls",
          "model_name": "ProgressStyleModel",
          "state": {
            "_view_name": "StyleView",
            "_model_name": "ProgressStyleModel",
            "description_width": "initial",
            "_view_module": "@jupyter-widgets/base",
            "_model_module_version": "1.5.0",
            "_view_count": null,
            "_view_module_version": "1.2.0",
            "bar_color": null,
            "_model_module": "@jupyter-widgets/controls"
          }
        },
        "d820686a3ccd440196437b1cc323102c": {
          "model_module": "@jupyter-widgets/base",
          "model_name": "LayoutModel",
          "state": {
            "_view_name": "LayoutView",
            "grid_template_rows": null,
            "right": null,
            "justify_content": null,
            "_view_module": "@jupyter-widgets/base",
            "overflow": null,
            "_model_module_version": "1.2.0",
            "_view_count": null,
            "flex_flow": null,
            "width": null,
            "min_width": null,
            "border": null,
            "align_items": null,
            "bottom": null,
            "_model_module": "@jupyter-widgets/base",
            "top": null,
            "grid_column": null,
            "overflow_y": null,
            "overflow_x": null,
            "grid_auto_flow": null,
            "grid_area": null,
            "grid_template_columns": null,
            "flex": null,
            "_model_name": "LayoutModel",
            "justify_items": null,
            "grid_row": null,
            "max_height": null,
            "align_content": null,
            "visibility": null,
            "align_self": null,
            "height": null,
            "min_height": null,
            "padding": null,
            "grid_auto_rows": null,
            "grid_gap": null,
            "max_width": null,
            "order": null,
            "_view_module_version": "1.2.0",
            "grid_template_areas": null,
            "object_position": null,
            "object_fit": null,
            "grid_auto_columns": null,
            "margin": null,
            "display": null,
            "left": null
          }
        },
        "0680d03a30dc45fca3b6fce3e5175a57": {
          "model_module": "@jupyter-widgets/controls",
          "model_name": "DescriptionStyleModel",
          "state": {
            "_view_name": "StyleView",
            "_model_name": "DescriptionStyleModel",
            "description_width": "",
            "_view_module": "@jupyter-widgets/base",
            "_model_module_version": "1.5.0",
            "_view_count": null,
            "_view_module_version": "1.2.0",
            "_model_module": "@jupyter-widgets/controls"
          }
        },
        "01d4a2b370de4d8bbcfb31be810a1168": {
          "model_module": "@jupyter-widgets/base",
          "model_name": "LayoutModel",
          "state": {
            "_view_name": "LayoutView",
            "grid_template_rows": null,
            "right": null,
            "justify_content": null,
            "_view_module": "@jupyter-widgets/base",
            "overflow": null,
            "_model_module_version": "1.2.0",
            "_view_count": null,
            "flex_flow": null,
            "width": null,
            "min_width": null,
            "border": null,
            "align_items": null,
            "bottom": null,
            "_model_module": "@jupyter-widgets/base",
            "top": null,
            "grid_column": null,
            "overflow_y": null,
            "overflow_x": null,
            "grid_auto_flow": null,
            "grid_area": null,
            "grid_template_columns": null,
            "flex": null,
            "_model_name": "LayoutModel",
            "justify_items": null,
            "grid_row": null,
            "max_height": null,
            "align_content": null,
            "visibility": null,
            "align_self": null,
            "height": null,
            "min_height": null,
            "padding": null,
            "grid_auto_rows": null,
            "grid_gap": null,
            "max_width": null,
            "order": null,
            "_view_module_version": "1.2.0",
            "grid_template_areas": null,
            "object_position": null,
            "object_fit": null,
            "grid_auto_columns": null,
            "margin": null,
            "display": null,
            "left": null
          }
        },
        "51eedfa2491e449b81489b834327b428": {
          "model_module": "@jupyter-widgets/controls",
          "model_name": "HBoxModel",
          "state": {
            "_view_name": "HBoxView",
            "_dom_classes": [],
            "_model_name": "HBoxModel",
            "_view_module": "@jupyter-widgets/controls",
            "_model_module_version": "1.5.0",
            "_view_count": null,
            "_view_module_version": "1.5.0",
            "box_style": "",
            "layout": "IPY_MODEL_635c7b334c2f424aa8dfc66d27702637",
            "_model_module": "@jupyter-widgets/controls",
            "children": [
              "IPY_MODEL_aa65d1caa60d44d6926ddbfee95ccf5e",
              "IPY_MODEL_edc9e6773c004bf790c44346ff4f06a9"
            ]
          }
        },
        "635c7b334c2f424aa8dfc66d27702637": {
          "model_module": "@jupyter-widgets/base",
          "model_name": "LayoutModel",
          "state": {
            "_view_name": "LayoutView",
            "grid_template_rows": null,
            "right": null,
            "justify_content": null,
            "_view_module": "@jupyter-widgets/base",
            "overflow": null,
            "_model_module_version": "1.2.0",
            "_view_count": null,
            "flex_flow": null,
            "width": null,
            "min_width": null,
            "border": null,
            "align_items": null,
            "bottom": null,
            "_model_module": "@jupyter-widgets/base",
            "top": null,
            "grid_column": null,
            "overflow_y": null,
            "overflow_x": null,
            "grid_auto_flow": null,
            "grid_area": null,
            "grid_template_columns": null,
            "flex": null,
            "_model_name": "LayoutModel",
            "justify_items": null,
            "grid_row": null,
            "max_height": null,
            "align_content": null,
            "visibility": null,
            "align_self": null,
            "height": null,
            "min_height": null,
            "padding": null,
            "grid_auto_rows": null,
            "grid_gap": null,
            "max_width": null,
            "order": null,
            "_view_module_version": "1.2.0",
            "grid_template_areas": null,
            "object_position": null,
            "object_fit": null,
            "grid_auto_columns": null,
            "margin": null,
            "display": null,
            "left": null
          }
        },
        "aa65d1caa60d44d6926ddbfee95ccf5e": {
          "model_module": "@jupyter-widgets/controls",
          "model_name": "IntProgressModel",
          "state": {
            "_view_name": "ProgressView",
            "style": "IPY_MODEL_1cbd2e5f04eb482e8cb7719ffd0c384a",
            "_dom_classes": [],
            "description": "100%",
            "_model_name": "IntProgressModel",
            "bar_style": "success",
            "max": 1063,
            "_view_module": "@jupyter-widgets/controls",
            "_model_module_version": "1.5.0",
            "value": 1063,
            "_view_count": null,
            "_view_module_version": "1.5.0",
            "orientation": "horizontal",
            "min": 0,
            "description_tooltip": null,
            "_model_module": "@jupyter-widgets/controls",
            "layout": "IPY_MODEL_ac846821028046b6929517743f83bd21"
          }
        },
        "edc9e6773c004bf790c44346ff4f06a9": {
          "model_module": "@jupyter-widgets/controls",
          "model_name": "HTMLModel",
          "state": {
            "_view_name": "HTMLView",
            "style": "IPY_MODEL_bc8d03c756454e0c82f8cfd0fc0cf2ab",
            "_dom_classes": [],
            "description": "",
            "_model_name": "HTMLModel",
            "placeholder": "​",
            "_view_module": "@jupyter-widgets/controls",
            "_model_module_version": "1.5.0",
            "value": " 1063/1063 [00:00&lt;00:00, 4658.49it/s]",
            "_view_count": null,
            "_view_module_version": "1.5.0",
            "description_tooltip": null,
            "_model_module": "@jupyter-widgets/controls",
            "layout": "IPY_MODEL_0bfb177e00da4e73a56aa25e6c3077fd"
          }
        },
        "1cbd2e5f04eb482e8cb7719ffd0c384a": {
          "model_module": "@jupyter-widgets/controls",
          "model_name": "ProgressStyleModel",
          "state": {
            "_view_name": "StyleView",
            "_model_name": "ProgressStyleModel",
            "description_width": "initial",
            "_view_module": "@jupyter-widgets/base",
            "_model_module_version": "1.5.0",
            "_view_count": null,
            "_view_module_version": "1.2.0",
            "bar_color": null,
            "_model_module": "@jupyter-widgets/controls"
          }
        },
        "ac846821028046b6929517743f83bd21": {
          "model_module": "@jupyter-widgets/base",
          "model_name": "LayoutModel",
          "state": {
            "_view_name": "LayoutView",
            "grid_template_rows": null,
            "right": null,
            "justify_content": null,
            "_view_module": "@jupyter-widgets/base",
            "overflow": null,
            "_model_module_version": "1.2.0",
            "_view_count": null,
            "flex_flow": null,
            "width": null,
            "min_width": null,
            "border": null,
            "align_items": null,
            "bottom": null,
            "_model_module": "@jupyter-widgets/base",
            "top": null,
            "grid_column": null,
            "overflow_y": null,
            "overflow_x": null,
            "grid_auto_flow": null,
            "grid_area": null,
            "grid_template_columns": null,
            "flex": null,
            "_model_name": "LayoutModel",
            "justify_items": null,
            "grid_row": null,
            "max_height": null,
            "align_content": null,
            "visibility": null,
            "align_self": null,
            "height": null,
            "min_height": null,
            "padding": null,
            "grid_auto_rows": null,
            "grid_gap": null,
            "max_width": null,
            "order": null,
            "_view_module_version": "1.2.0",
            "grid_template_areas": null,
            "object_position": null,
            "object_fit": null,
            "grid_auto_columns": null,
            "margin": null,
            "display": null,
            "left": null
          }
        },
        "bc8d03c756454e0c82f8cfd0fc0cf2ab": {
          "model_module": "@jupyter-widgets/controls",
          "model_name": "DescriptionStyleModel",
          "state": {
            "_view_name": "StyleView",
            "_model_name": "DescriptionStyleModel",
            "description_width": "",
            "_view_module": "@jupyter-widgets/base",
            "_model_module_version": "1.5.0",
            "_view_count": null,
            "_view_module_version": "1.2.0",
            "_model_module": "@jupyter-widgets/controls"
          }
        },
        "0bfb177e00da4e73a56aa25e6c3077fd": {
          "model_module": "@jupyter-widgets/base",
          "model_name": "LayoutModel",
          "state": {
            "_view_name": "LayoutView",
            "grid_template_rows": null,
            "right": null,
            "justify_content": null,
            "_view_module": "@jupyter-widgets/base",
            "overflow": null,
            "_model_module_version": "1.2.0",
            "_view_count": null,
            "flex_flow": null,
            "width": null,
            "min_width": null,
            "border": null,
            "align_items": null,
            "bottom": null,
            "_model_module": "@jupyter-widgets/base",
            "top": null,
            "grid_column": null,
            "overflow_y": null,
            "overflow_x": null,
            "grid_auto_flow": null,
            "grid_area": null,
            "grid_template_columns": null,
            "flex": null,
            "_model_name": "LayoutModel",
            "justify_items": null,
            "grid_row": null,
            "max_height": null,
            "align_content": null,
            "visibility": null,
            "align_self": null,
            "height": null,
            "min_height": null,
            "padding": null,
            "grid_auto_rows": null,
            "grid_gap": null,
            "max_width": null,
            "order": null,
            "_view_module_version": "1.2.0",
            "grid_template_areas": null,
            "object_position": null,
            "object_fit": null,
            "grid_auto_columns": null,
            "margin": null,
            "display": null,
            "left": null
          }
        },
        "f47dc77475fd41d9b0cd3906ecbad0f5": {
          "model_module": "@jupyter-widgets/controls",
          "model_name": "HBoxModel",
          "state": {
            "_view_name": "HBoxView",
            "_dom_classes": [],
            "_model_name": "HBoxModel",
            "_view_module": "@jupyter-widgets/controls",
            "_model_module_version": "1.5.0",
            "_view_count": null,
            "_view_module_version": "1.5.0",
            "box_style": "",
            "layout": "IPY_MODEL_a175ec789d684520a0dbee51e1f1bef1",
            "_model_module": "@jupyter-widgets/controls",
            "children": [
              "IPY_MODEL_46dd9919b0584613af5f0ca11611d2bb",
              "IPY_MODEL_b5168e66b4384137aaa9bb0e17b95dfc"
            ]
          }
        },
        "a175ec789d684520a0dbee51e1f1bef1": {
          "model_module": "@jupyter-widgets/base",
          "model_name": "LayoutModel",
          "state": {
            "_view_name": "LayoutView",
            "grid_template_rows": null,
            "right": null,
            "justify_content": null,
            "_view_module": "@jupyter-widgets/base",
            "overflow": null,
            "_model_module_version": "1.2.0",
            "_view_count": null,
            "flex_flow": null,
            "width": null,
            "min_width": null,
            "border": null,
            "align_items": null,
            "bottom": null,
            "_model_module": "@jupyter-widgets/base",
            "top": null,
            "grid_column": null,
            "overflow_y": null,
            "overflow_x": null,
            "grid_auto_flow": null,
            "grid_area": null,
            "grid_template_columns": null,
            "flex": null,
            "_model_name": "LayoutModel",
            "justify_items": null,
            "grid_row": null,
            "max_height": null,
            "align_content": null,
            "visibility": null,
            "align_self": null,
            "height": null,
            "min_height": null,
            "padding": null,
            "grid_auto_rows": null,
            "grid_gap": null,
            "max_width": null,
            "order": null,
            "_view_module_version": "1.2.0",
            "grid_template_areas": null,
            "object_position": null,
            "object_fit": null,
            "grid_auto_columns": null,
            "margin": null,
            "display": null,
            "left": null
          }
        },
        "46dd9919b0584613af5f0ca11611d2bb": {
          "model_module": "@jupyter-widgets/controls",
          "model_name": "IntProgressModel",
          "state": {
            "_view_name": "ProgressView",
            "style": "IPY_MODEL_bb2c19fccf024309980dc00aa13c9a1a",
            "_dom_classes": [],
            "description": "100%",
            "_model_name": "IntProgressModel",
            "bar_style": "success",
            "max": 5516,
            "_view_module": "@jupyter-widgets/controls",
            "_model_module_version": "1.5.0",
            "value": 5516,
            "_view_count": null,
            "_view_module_version": "1.5.0",
            "orientation": "horizontal",
            "min": 0,
            "description_tooltip": null,
            "_model_module": "@jupyter-widgets/controls",
            "layout": "IPY_MODEL_fa2413a9d7a54fba9a3d306396dc1e0e"
          }
        },
        "b5168e66b4384137aaa9bb0e17b95dfc": {
          "model_module": "@jupyter-widgets/controls",
          "model_name": "HTMLModel",
          "state": {
            "_view_name": "HTMLView",
            "style": "IPY_MODEL_3352848fb33f4594b83609d7d003d13c",
            "_dom_classes": [],
            "description": "",
            "_model_name": "HTMLModel",
            "placeholder": "​",
            "_view_module": "@jupyter-widgets/controls",
            "_model_module_version": "1.5.0",
            "value": " 5516/5516 [10:22&lt;00:00,  8.86it/s]",
            "_view_count": null,
            "_view_module_version": "1.5.0",
            "description_tooltip": null,
            "_model_module": "@jupyter-widgets/controls",
            "layout": "IPY_MODEL_0fc86bfc373c49dea29991ecf7a43c66"
          }
        },
        "bb2c19fccf024309980dc00aa13c9a1a": {
          "model_module": "@jupyter-widgets/controls",
          "model_name": "ProgressStyleModel",
          "state": {
            "_view_name": "StyleView",
            "_model_name": "ProgressStyleModel",
            "description_width": "initial",
            "_view_module": "@jupyter-widgets/base",
            "_model_module_version": "1.5.0",
            "_view_count": null,
            "_view_module_version": "1.2.0",
            "bar_color": null,
            "_model_module": "@jupyter-widgets/controls"
          }
        },
        "fa2413a9d7a54fba9a3d306396dc1e0e": {
          "model_module": "@jupyter-widgets/base",
          "model_name": "LayoutModel",
          "state": {
            "_view_name": "LayoutView",
            "grid_template_rows": null,
            "right": null,
            "justify_content": null,
            "_view_module": "@jupyter-widgets/base",
            "overflow": null,
            "_model_module_version": "1.2.0",
            "_view_count": null,
            "flex_flow": null,
            "width": null,
            "min_width": null,
            "border": null,
            "align_items": null,
            "bottom": null,
            "_model_module": "@jupyter-widgets/base",
            "top": null,
            "grid_column": null,
            "overflow_y": null,
            "overflow_x": null,
            "grid_auto_flow": null,
            "grid_area": null,
            "grid_template_columns": null,
            "flex": null,
            "_model_name": "LayoutModel",
            "justify_items": null,
            "grid_row": null,
            "max_height": null,
            "align_content": null,
            "visibility": null,
            "align_self": null,
            "height": null,
            "min_height": null,
            "padding": null,
            "grid_auto_rows": null,
            "grid_gap": null,
            "max_width": null,
            "order": null,
            "_view_module_version": "1.2.0",
            "grid_template_areas": null,
            "object_position": null,
            "object_fit": null,
            "grid_auto_columns": null,
            "margin": null,
            "display": null,
            "left": null
          }
        },
        "3352848fb33f4594b83609d7d003d13c": {
          "model_module": "@jupyter-widgets/controls",
          "model_name": "DescriptionStyleModel",
          "state": {
            "_view_name": "StyleView",
            "_model_name": "DescriptionStyleModel",
            "description_width": "",
            "_view_module": "@jupyter-widgets/base",
            "_model_module_version": "1.5.0",
            "_view_count": null,
            "_view_module_version": "1.2.0",
            "_model_module": "@jupyter-widgets/controls"
          }
        },
        "0fc86bfc373c49dea29991ecf7a43c66": {
          "model_module": "@jupyter-widgets/base",
          "model_name": "LayoutModel",
          "state": {
            "_view_name": "LayoutView",
            "grid_template_rows": null,
            "right": null,
            "justify_content": null,
            "_view_module": "@jupyter-widgets/base",
            "overflow": null,
            "_model_module_version": "1.2.0",
            "_view_count": null,
            "flex_flow": null,
            "width": null,
            "min_width": null,
            "border": null,
            "align_items": null,
            "bottom": null,
            "_model_module": "@jupyter-widgets/base",
            "top": null,
            "grid_column": null,
            "overflow_y": null,
            "overflow_x": null,
            "grid_auto_flow": null,
            "grid_area": null,
            "grid_template_columns": null,
            "flex": null,
            "_model_name": "LayoutModel",
            "justify_items": null,
            "grid_row": null,
            "max_height": null,
            "align_content": null,
            "visibility": null,
            "align_self": null,
            "height": null,
            "min_height": null,
            "padding": null,
            "grid_auto_rows": null,
            "grid_gap": null,
            "max_width": null,
            "order": null,
            "_view_module_version": "1.2.0",
            "grid_template_areas": null,
            "object_position": null,
            "object_fit": null,
            "grid_auto_columns": null,
            "margin": null,
            "display": null,
            "left": null
          }
        }
      }
    }
  },
  "cells": [
    {
      "cell_type": "code",
      "metadata": {
        "id": "nR5FR2HHb3H6",
        "colab_type": "code",
        "colab": {}
      },
      "source": [
        "%%capture\n",
        "!pip install transformers\n",
        "train_folder = \"./drive/My Drive/datasets/train-articles\" # check that the path to the datasets folder is correct, \n",
        "dev_folder = \"./drive/My Drive/datasets/dev-articles\"     # if not adjust these variables accordingly\n",
        "train_labels_file = \"./drive/My Drive/datasets/train-task2-TC.labels\"\n",
        "dev_labels_file = \"./drive/My Drive/datasets/dev-task-TC.labels\""
      ],
      "execution_count": 0,
      "outputs": []
    },
    {
      "cell_type": "code",
      "metadata": {
        "id": "XOgs8mA27_-E",
        "colab_type": "code",
        "colab": {}
      },
      "source": [
        "from transformers import *\n",
        "import time\n",
        "import os\n",
        "import numpy as np\n",
        "import pandas as pd\n",
        "import re\n",
        "import itertools\n",
        "from tqdm import tqdm\n",
        "from tqdm import  tqdm_notebook\n",
        "import matplotlib.pyplot as plt\n",
        "import seaborn as sns\n",
        "from google.colab import files\n",
        "from sklearn.metrics import confusion_matrix, classification_report\n",
        "from sklearn.model_selection import train_test_split\n",
        "from sklearn.preprocessing import LabelEncoder as LE\n",
        "from keras.preprocessing.sequence import pad_sequences\n",
        "from torch.utils.data import TensorDataset, DataLoader, RandomSampler, SequentialSampler\n",
        "import torch\n",
        "import glob\n",
        "import os.path\n",
        "import sys\n",
        "import codecs\n",
        "from sklearn.feature_extraction.text import TfidfVectorizer\n",
        "from sklearn.linear_model import LogisticRegression\n",
        "import datetime\n",
        "import warnings\n",
        "warnings.filterwarnings('ignore')\n",
        "from scipy.sparse import hstack\n",
        "import random\n",
        "import tensorflow as tf\n",
        "\n",
        "def read_articles_from_file_list(folder_name, file_pattern=\"*.txt\"):\n",
        "    \"\"\"\n",
        "    Read articles from files matching patterns <file_pattern> from  \n",
        "    the directory <folder_name>. \n",
        "    The content of the article is saved in the dictionary whose key\n",
        "    is the id of the article (extracted from the file name).\n",
        "    Each element of <sentence_list> is one line of the article.\n",
        "    \"\"\"\n",
        "    file_list = glob.glob(os.path.join(folder_name, file_pattern))\n",
        "    articles = {}\n",
        "    article_id_list, sentence_id_list, sentence_list = ([], [], [])\n",
        "    for filename in sorted(file_list):\n",
        "        article_id = os.path.basename(filename).split(\".\")[0][7:]\n",
        "        with codecs.open(filename, \"r\", encoding=\"utf8\") as f:\n",
        "            articles[article_id] = f.read()\n",
        "    return articles\n",
        "\n",
        "\n",
        "def read_predictions_from_file(filename):\n",
        "    \"\"\"\n",
        "    Reader for the gold file and the template output file. \n",
        "    Return values are four arrays with article ids, labels \n",
        "    (or ? in the case of a template file), begin of a fragment, \n",
        "    end of a fragment. \n",
        "    \"\"\"\n",
        "    articles_id, span_starts, span_ends, gold_labels = ([], [], [], [])\n",
        "    with open(filename, \"r\") as f:\n",
        "        for row in f.readlines():\n",
        "            article_id, gold_label, span_start, span_end = row.rstrip().split(\"\\t\")\n",
        "            articles_id.append(article_id)\n",
        "            gold_labels.append(gold_label)\n",
        "            span_starts.append(span_start)\n",
        "            span_ends.append(span_end)\n",
        "    return articles_id, span_starts, span_ends, gold_labels\n",
        "\n",
        "def report(true, pred):\n",
        "    cm=confusion_matrix(true, pred)\n",
        "    cm = cm.astype('float') / cm.sum(axis=1)[:, np.newaxis]\n",
        "    plt.figure(figsize = (10,8))\n",
        "    sns.heatmap(cm,annot=True)\n",
        "    cf_rep=classification_report(true,pred)\n",
        "    print(cf_rep)\n",
        "\n",
        "def seed(seed_val=1234):\n",
        "\trandom.seed(seed_val)\n",
        "\tnp.random.seed(seed_val)\n",
        "\ttorch.manual_seed(seed_val)\n",
        "\ttorch.cuda.manual_seed_all(seed_val)\n",
        "\ttorch.backends.cudnn.deterministic = True\n",
        "\ttorch.backends.cudnn.benchmark = False\n",
        "\n",
        "def check_cuda():\n",
        "\tdevice_name = tf.test.gpu_device_name()\n",
        "\tif device_name == '/device:GPU:0':\n",
        "\t    print('Found GPU at: {}'.format(device_name))\n",
        "\telse:\n",
        "\t    raise SystemError('GPU device not found')\n",
        "\tif torch.cuda.is_available():     \n",
        "\t    device = torch.device(\"cuda\")\n",
        "\t    print('There are %d GPU(s) available.' % torch.cuda.device_count())\n",
        "\t    print('We will use the GPU:', torch.cuda.get_device_name(0))\n",
        "\telse:\n",
        "\t    print('No GPU available, using the CPU instead.')\n",
        "\t    device = torch.device(\"cpu\")\n",
        "\n",
        "def check(_seed=1234):\n",
        "\tseed(seed_val=_seed)\n",
        "\tcheck_cuda()"
      ],
      "execution_count": 0,
      "outputs": []
    },
    {
      "cell_type": "code",
      "metadata": {
        "id": "9-2dRgZQ8GG2",
        "colab_type": "code",
        "colab": {}
      },
      "source": [
        "class Dataset:\n",
        "  def __init__(self, articles_folder=None, labels_file=None, df=pd.DataFrame()):\n",
        "    assert not ((articles_folder==None or labels_file==None) and df.empty), \t\"Inputs Invalid\"\n",
        "\n",
        "    if df.empty:\t        \t\n",
        "      self.articles_folder = articles_folder\n",
        "      self.labels_file = labels_file\n",
        "      self.articles = read_articles_from_file_list(articles_folder)\n",
        "      self.read()\n",
        "      self.df=pd.DataFrame()\n",
        "      self.df['Sentences']=self.sentences\n",
        "      self.df['Labels']=self.gold_labels\n",
        "      self.df['Spans']=self.spans\n",
        "    else:\n",
        "      self.df=df\n",
        "\n",
        "  def read(self):\n",
        "    articles_id, span_starts, span_ends, self.gold_labels = read_predictions_from_file(self.labels_file)\n",
        "    self.spans = [int(end)-int(start) for start, end in zip(span_starts, span_ends)]\n",
        "    print(\"Read %d annotations from %d articles\" % (len(span_starts), len(set(articles_id))))\n",
        "    self.sentences=[self.articles[id][int(start):int(end)] for id, start, end in zip(articles_id, span_starts, span_ends)]\n",
        "    self.size=len(self.sentences)\n",
        "\n",
        "  def split(self, test_size=0.1, seed=1234):\n",
        "    a,b= train_test_split(self.df, stratify=self.df['Labels'], test_size=test_size, random_state=seed)\n",
        "    a,b = Dataset(df=a), Dataset(df=b)\n",
        "    a.size, b.size=a.df.shape[0], b.df.shape[0]\n",
        "    a.gold_labels, b.gold_labels=a.df['Labels'], b.df['Labels'] \n",
        "    return a,b\n",
        "\n",
        "class SLDataset:\n",
        "    def __init__(self,  df, lower=True):\n",
        "        self.lower=lower\n",
        "\n",
        "    def clean(self):\n",
        "        def text_clean(text):\n",
        "            if self.lower:\n",
        "                text=text.lower()\n",
        "            text=re.sub(r'^https?:\\/\\/.*[\\r\\n]*', '', text, flags=re.MULTILINE)\n",
        "            text=re.sub('[“\"”]',' \" ',text)\n",
        "            if self.lower:\n",
        "                retain='[^abcdefghijklmnopqrstuvwxyz!#?\". ]'\n",
        "            else:\n",
        "                retain='[^abcdefghijklmnopqrstuvwxyzQWERTYUIOPASDFGHJKLZXCVBNM!#?\". ]'\n",
        "            text=re.sub('[()–-]',' ',text)\n",
        "            text=re.sub(retain,'',text)\n",
        "            text=re.sub('[.]',' . ',text)\n",
        "            text=text.replace('?',' ? ')\n",
        "            text=text.replace('#',' # ')\n",
        "            text=text.replace('!',' ! ')\n",
        "            return ' '.join(text.split())\n",
        "        \n",
        "        print(\"Cleaning Sentences\")\n",
        "        self.sentences=[text_clean(sentence) for sentence in self.df.Sentences]\n",
        "\n",
        "class TransformerDataset:\n",
        "    def __init__(self, df):\n",
        "        self.df=df\n",
        "        self.clean()\n",
        "        self.sentences = df.df['Sentences'].apply(lambda x : \"[CLS] {} [SEP]\".format(x))\n",
        "        self.le=LE()\n",
        "        self.labels=self.le.fit_transform(self.df.gold_labels)\n",
        "\n",
        "    def clean(self):\n",
        "        def text_clean(text):\n",
        "            text=re.sub(r'^https?:\\/\\/.*[\\r\\n]*', '', text, flags=re.MULTILINE)\n",
        "            text=re.sub('[“\"”]',' \" ',text)\n",
        "            retain='[^abcdefghijklmnopqrstuvwxyzQWERTYUIOPASDFGHJKLZXCVBNM!\"#$%&\\'()*+,-./:;<=>?@[\\\\]^_`{|}~.0123456789 ]'\n",
        "            return ' '.join(text.split())\n",
        "        \n",
        "        print(\"Cleaning Sentences\")\n",
        "        self.sentences=[text_clean(sentence) for sentence in self.df.df.Sentences]\n",
        "        \n",
        "    def tokenize(self, tokenizer=BertTokenizer.from_pretrained('bert-base-uncased'), verbosity=True):\n",
        "        self.tokenizer=tokenizer\n",
        "        print(\"Tokenizing\")\n",
        "        self.tokenized_texts = [self.tokenizer.tokenize(sent) for sent in self.sentences]\n",
        "        if verbosity:\n",
        "          print(\"Tokenized \\n\", self.tokenized_texts[0])\n",
        "    \n",
        "    def encode(self, MAX_LEN=90):\n",
        "      input_ids=[]\n",
        "      for i in tqdm_notebook(range(len(self.tokenized_texts))):\n",
        "        input_ids.append(self.tokenizer.convert_tokens_to_ids(self.tokenized_texts[i]))\n",
        "      \n",
        "      input_ids = pad_sequences(input_ids, maxlen=MAX_LEN, dtype=\"long\", truncating=\"post\", padding=\"post\")\n",
        "\n",
        "      for i in range(len(input_ids)):\n",
        "      \tif not input_ids[i][-1] == 0:\n",
        "      \t\tinput_ids[i][-1]=102\n",
        "\n",
        "      attention_masks = []\n",
        "      # Create a mask of 1s for each token followed by 0s for padding\n",
        "      for seq in input_ids:\n",
        "        seq_mask = [float(i>0) for i in seq]\n",
        "        attention_masks.append(seq_mask)\n",
        "      self.inputs, self.masks, self.labels = torch.tensor(input_ids), torch.tensor(attention_masks), torch.tensor(self.labels)\n",
        "\n",
        "    def load(self, batch_size=32):\n",
        "      self.data = TensorDataset(self.inputs, self.masks, self.labels)\n",
        "      self.dataloader = DataLoader(self.data, shuffle=False, batch_size=batch_size)"
      ],
      "execution_count": 0,
      "outputs": []
    },
    {
      "cell_type": "code",
      "metadata": {
        "id": "GI1BhVzPyNg3",
        "colab_type": "code",
        "colab": {}
      },
      "source": [
        "tfidf_c_config={\n",
        "    'min' : 5,\n",
        "    'ng_l' : 1,\n",
        "    'ng_h' :6,\n",
        "    'max_features' : 1500\n",
        "}\n",
        "\n",
        "tfidf_w_config={\n",
        "    'min' : 3,\n",
        "    'ng_l' : 1,\n",
        "    'ng_h' :3,\n",
        "    'max_features' : 2000\n",
        "}\n",
        "\n",
        "class FeatureExtraction:\n",
        "    def __init__(self, train_data, dev_data, tfidf_c_config=tfidf_c_config, tfidf_w_config=tfidf_w_config, lower=True):\n",
        "        self.train_data, self.dev_data = train_data, dev_data\n",
        "        self.tfidf_c=TfidfVectorizer(sublinear_tf=True, min_df=tfidf_c_config['min'],ngram_range=(tfidf_c_config['ng_l'],tfidf_c_config['ng_h']),stop_words='english',analyzer='char',max_features=tfidf_c_config['max_features'],lowercase=lower)\n",
        "        self.tfidf_w=TfidfVectorizer(sublinear_tf=True, min_df=tfidf_w_config['min'],ngram_range=(tfidf_w_config['ng_l'],tfidf_w_config['ng_h']),stop_words='english',analyzer='word',max_features=tfidf_w_config['max_features'],lowercase=lower)\n",
        "        \n",
        "    def get_features(self):\n",
        "        sentences=self.train_data.df.Sentences.tolist()+self.dev_data.df.Sentences.tolist()\n",
        "        spans=np.asarray(self.train_data.df.Spans.tolist()+self.dev_data.df.Spans.tolist()).reshape(-1,1)\n",
        "        self.tfidf_c.fit(sentences)\n",
        "        self.tfidf_w.fit(sentences)\n",
        "        train_sentences_c=self.tfidf_c.transform(sentences[:self.train_data.size])\n",
        "        train_sentences_w=self.tfidf_w.transform(sentences[:self.train_data.size])\n",
        "        dev_sentences_c=self.tfidf_c.transform(sentences[self.train_data.size:])\n",
        "        dev_sentences_w=self.tfidf_w.transform(sentences[self.train_data.size:])\n",
        "        self.train_features=hstack([train_sentences_c, train_sentences_w, spans[:self.train_data.size]])\n",
        "        self.dev_features=hstack([dev_sentences_c, dev_sentences_w, spans[self.train_data.size:]])"
      ],
      "execution_count": 0,
      "outputs": []
    },
    {
      "cell_type": "code",
      "metadata": {
        "id": "6eV5OZmh8Jmt",
        "colab_type": "code",
        "outputId": "ac8d8396-d385-44bd-8801-dcbb2441324a",
        "colab": {
          "base_uri": "https://localhost:8080/",
          "height": 50
        }
      },
      "source": [
        "Train, Valid = Dataset(articles_folder=train_folder, labels_file=train_labels_file).split()\n",
        "Test =Dataset(articles_folder=dev_folder, labels_file=dev_labels_file)"
      ],
      "execution_count": 0,
      "outputs": [
        {
          "output_type": "stream",
          "text": [
            "Read 6129 annotations from 357 articles\n",
            "Read 1063 annotations from 74 articles\n"
          ],
          "name": "stdout"
        }
      ]
    },
    {
      "cell_type": "code",
      "metadata": {
        "id": "_EAdGM0z87WB",
        "colab_type": "code",
        "outputId": "5e2e463b-a10c-4a5e-9c04-cc4c84d9f0b0",
        "colab": {
          "base_uri": "https://localhost:8080/",
          "height": 67
        }
      },
      "source": [
        "Train_trans=TransformerDataset(Train)\n",
        "Valid_trans=TransformerDataset(Valid)\n",
        "Test_trans=TransformerDataset(Test)"
      ],
      "execution_count": 0,
      "outputs": [
        {
          "output_type": "stream",
          "text": [
            "Cleaning Sentences\n",
            "Cleaning Sentences\n",
            "Cleaning Sentences\n"
          ],
          "name": "stdout"
        }
      ]
    },
    {
      "cell_type": "code",
      "metadata": {
        "id": "siQajSaTFDW4",
        "colab_type": "code",
        "outputId": "582579e8-0a2b-4de8-873c-fe0e9e5a5c4a",
        "colab": {
          "base_uri": "https://localhost:8080/",
          "height": 331,
          "referenced_widgets": [
            "65b2c391e68341f7895b1961fd86cfd5",
            "faa58cbc73b3497190f5ded5062e4a6d",
            "9daecf202d3349b38cd79ddefb79200c",
            "13fe12bf475e48298814526dc7f8a2a5",
            "cd07d44c1d644a5d8a1d0634124a00e6",
            "d820686a3ccd440196437b1cc323102c",
            "0680d03a30dc45fca3b6fce3e5175a57",
            "01d4a2b370de4d8bbcfb31be810a1168",
            "51eedfa2491e449b81489b834327b428",
            "635c7b334c2f424aa8dfc66d27702637",
            "aa65d1caa60d44d6926ddbfee95ccf5e",
            "edc9e6773c004bf790c44346ff4f06a9",
            "1cbd2e5f04eb482e8cb7719ffd0c384a",
            "ac846821028046b6929517743f83bd21",
            "bc8d03c756454e0c82f8cfd0fc0cf2ab",
            "0bfb177e00da4e73a56aa25e6c3077fd",
            "f47dc77475fd41d9b0cd3906ecbad0f5",
            "a175ec789d684520a0dbee51e1f1bef1",
            "46dd9919b0584613af5f0ca11611d2bb",
            "b5168e66b4384137aaa9bb0e17b95dfc",
            "bb2c19fccf024309980dc00aa13c9a1a",
            "fa2413a9d7a54fba9a3d306396dc1e0e",
            "3352848fb33f4594b83609d7d003d13c",
            "0fc86bfc373c49dea29991ecf7a43c66"
          ]
        }
      },
      "source": [
        "Valid_trans.tokenize(), Test_trans.tokenize(), Train_trans.tokenize(), \n",
        "Valid_trans.encode(),Test_trans.encode(),Train_trans.encode(),\n",
        "Valid_trans.load(),Test_trans.load(),Train_trans.load(),"
      ],
      "execution_count": 0,
      "outputs": [
        {
          "output_type": "stream",
          "text": [
            "Tokenizing\n",
            "Tokenized \n",
            " ['[CLS]', 'bloody', 'sl', '##og', '[SEP]']\n",
            "Tokenizing\n",
            "Tokenized \n",
            " ['[CLS]', 'white', '[SEP]']\n",
            "Tokenizing\n",
            "Tokenized \n",
            " ['[CLS]', 'anti', '-', 'american', '[SEP]']\n"
          ],
          "name": "stdout"
        },
        {
          "output_type": "display_data",
          "data": {
            "application/vnd.jupyter.widget-view+json": {
              "model_id": "65b2c391e68341f7895b1961fd86cfd5",
              "version_minor": 0,
              "version_major": 2
            },
            "text/plain": [
              "HBox(children=(IntProgress(value=0, max=613), HTML(value='')))"
            ]
          },
          "metadata": {
            "tags": []
          }
        },
        {
          "output_type": "stream",
          "text": [
            "\n"
          ],
          "name": "stdout"
        },
        {
          "output_type": "display_data",
          "data": {
            "application/vnd.jupyter.widget-view+json": {
              "model_id": "51eedfa2491e449b81489b834327b428",
              "version_minor": 0,
              "version_major": 2
            },
            "text/plain": [
              "HBox(children=(IntProgress(value=0, max=1063), HTML(value='')))"
            ]
          },
          "metadata": {
            "tags": []
          }
        },
        {
          "output_type": "stream",
          "text": [
            "\n"
          ],
          "name": "stdout"
        },
        {
          "output_type": "display_data",
          "data": {
            "application/vnd.jupyter.widget-view+json": {
              "model_id": "f47dc77475fd41d9b0cd3906ecbad0f5",
              "version_minor": 0,
              "version_major": 2
            },
            "text/plain": [
              "HBox(children=(IntProgress(value=0, max=5516), HTML(value='')))"
            ]
          },
          "metadata": {
            "tags": []
          }
        },
        {
          "output_type": "stream",
          "text": [
            "\n"
          ],
          "name": "stdout"
        },
        {
          "output_type": "execute_result",
          "data": {
            "text/plain": [
              "(None, None, None)"
            ]
          },
          "metadata": {
            "tags": []
          },
          "execution_count": 45
        }
      ]
    },
    {
      "cell_type": "code",
      "metadata": {
        "id": "tluBhapkFEOt",
        "colab_type": "code",
        "colab": {}
      },
      "source": [
        "Train_trans=SLDataset(Train)\n",
        "Valid_trans=SLDataset(Valid)\n",
        "Test_trans=SLDataset(Test)"
      ],
      "execution_count": 0,
      "outputs": []
    },
    {
      "cell_type": "code",
      "metadata": {
        "id": "z1foQiksybj3",
        "colab_type": "code",
        "colab": {}
      },
      "source": [
        "fts=FeatureExtraction(Train,Valid)\n",
        "fts.get_features()"
      ],
      "execution_count": 0,
      "outputs": []
    },
    {
      "cell_type": "code",
      "metadata": {
        "id": "qj1ZQG4Syvfd",
        "colab_type": "code",
        "colab": {}
      },
      "source": [
        "X_train, X_valid = fts.train_features, fts.dev_features\n",
        "Y_train, Y_valid = Train.df['Labels'], Valid.df['Labels']"
      ],
      "execution_count": 0,
      "outputs": []
    },
    {
      "cell_type": "code",
      "metadata": {
        "id": "TEzEzG7VzuIy",
        "colab_type": "code",
        "colab": {}
      },
      "source": [
        "from sklearn.linear_model import LogisticRegression as LR"
      ],
      "execution_count": 0,
      "outputs": []
    },
    {
      "cell_type": "code",
      "metadata": {
        "id": "G4Uyt_7zz7-Q",
        "colab_type": "code",
        "colab": {}
      },
      "source": [
        "model=LR(penalty='l2', class_weight='balanced', random_state=1234, solver='liblinear')\n",
        "model.fit(X_train, Y_train)\n",
        "preds=model.predict(X_valid)"
      ],
      "execution_count": 0,
      "outputs": []
    },
    {
      "cell_type": "code",
      "metadata": {
        "id": "5wjOGLPC059j",
        "colab_type": "code",
        "outputId": "5a7124e1-fe67-45a9-874f-1c51dae5af7b",
        "colab": {
          "base_uri": "https://localhost:8080/",
          "height": 836
        }
      },
      "source": [
        "report(Y_valid, preds)"
      ],
      "execution_count": 0,
      "outputs": [
        {
          "output_type": "stream",
          "text": [
            "                                    precision    recall  f1-score   support\n",
            "\n",
            "               Appeal_to_Authority       0.31      0.36      0.33        14\n",
            "          Appeal_to_fear-prejudice       0.32      0.28      0.30        29\n",
            "    Bandwagon,Reductio_ad_hitlerum       0.30      0.43      0.35         7\n",
            "           Black-and-White_Fallacy       0.13      0.18      0.15        11\n",
            "         Causal_Oversimplification       0.18      0.19      0.19        21\n",
            "                             Doubt       0.46      0.51      0.49        49\n",
            "         Exaggeration,Minimisation       0.43      0.43      0.43        47\n",
            "                       Flag-Waving       0.50      0.65      0.57        23\n",
            "                   Loaded_Language       0.72      0.68      0.70       212\n",
            "             Name_Calling,Labeling       0.58      0.56      0.57       106\n",
            "                        Repetition       0.57      0.42      0.48        62\n",
            "                           Slogans       0.50      0.69      0.58        13\n",
            "       Thought-terminating_Cliches       0.33      0.62      0.43         8\n",
            "Whataboutism,Straw_Men,Red_Herring       0.23      0.27      0.25        11\n",
            "\n",
            "                          accuracy                           0.54       613\n",
            "                         macro avg       0.40      0.45      0.42       613\n",
            "                      weighted avg       0.55      0.54      0.54       613\n",
            "\n"
          ],
          "name": "stdout"
        },
        {
          "output_type": "display_data",
          "data": {
            "image/png": "[encoded data removed]",
            "text/plain": [
              "<Figure size 720x576 with 2 Axes>"
            ]
          },
          "metadata": {
            "tags": [],
            "needs_background": "light"
          }
        }
      ]
    },
    {
      "cell_type": "code",
      "metadata": {
        "id": "MrrL8cQu4jE3",
        "colab_type": "code",
        "outputId": "ac157722-0e77-42fd-d418-b3396de524f6",
        "colab": {
          "base_uri": "https://localhost:8080/",
          "height": 840
        }
      },
      "source": [
        "model.fit(X_train, Y_train)\n",
        "report(Y_train, model.predict(X_train))"
      ],
      "execution_count": 0,
      "outputs": [
        {
          "output_type": "stream",
          "text": [
            "                                    precision    recall  f1-score   support\n",
            "\n",
            "               Appeal_to_Authority       0.82      0.95      0.88       130\n",
            "          Appeal_to_fear-prejudice       0.75      0.79      0.77       265\n",
            "    Bandwagon,Reductio_ad_hitlerum       0.76      1.00      0.87        65\n",
            "           Black-and-White_Fallacy       0.75      0.96      0.84        96\n",
            "         Causal_Oversimplification       0.80      0.92      0.85       188\n",
            "                             Doubt       0.82      0.85      0.84       444\n",
            "         Exaggeration,Minimisation       0.72      0.73      0.72       419\n",
            "                       Flag-Waving       0.70      0.89      0.79       206\n",
            "                   Loaded_Language       0.83      0.78      0.80      1911\n",
            "             Name_Calling,Labeling       0.79      0.74      0.76       952\n",
            "                        Repetition       0.78      0.63      0.70       559\n",
            "                           Slogans       0.70      0.97      0.81       116\n",
            "       Thought-terminating_Cliches       0.55      0.97      0.71        68\n",
            "Whataboutism,Straw_Men,Red_Herring       0.79      0.98      0.88        97\n",
            "\n",
            "                          accuracy                           0.79      5516\n",
            "                         macro avg       0.76      0.87      0.80      5516\n",
            "                      weighted avg       0.79      0.79      0.79      5516\n",
            "\n"
          ],
          "name": "stdout"
        },
        {
          "output_type": "display_data",
          "data": {
            "image/png": "[encoded data removed]",
            "text/plain": [
              "<Figure size 720x576 with 2 Axes>"
            ]
          },
          "metadata": {
            "tags": [],
            "needs_background": "light"
          }
        }
      ]
    },
    {
      "cell_type": "code",
      "metadata": {
        "id": "uOs2q4RM1gcW",
        "colab_type": "code",
        "outputId": "e3dd2237-1e89-414f-b91a-6d2805630d6d",
        "colab": {
          "base_uri": "https://localhost:8080/",
          "height": 50
        }
      },
      "source": [
        "Train = Dataset(articles_folder=train_folder, labels_file=train_labels_file)\n",
        "Test =Dataset(articles_folder=dev_folder, labels_file=dev_labels_file)"
      ],
      "execution_count": 0,
      "outputs": [
        {
          "output_type": "stream",
          "text": [
            "Read 6129 annotations from 357 articles\n",
            "Read 1063 annotations from 74 articles\n"
          ],
          "name": "stdout"
        }
      ]
    },
    {
      "cell_type": "code",
      "metadata": {
        "id": "9jxXAGkh14_s",
        "colab_type": "code",
        "colab": {}
      },
      "source": [
        "Train_trans=SLDataset(Train)\n",
        "Test_trans=SLDataset(Test)"
      ],
      "execution_count": 0,
      "outputs": []
    },
    {
      "cell_type": "code",
      "metadata": {
        "colab_type": "code",
        "id": "dtYE9lYg2Nxs",
        "colab": {}
      },
      "source": [
        "fts=FeatureExtraction(Train,Test)\n",
        "fts.get_features()"
      ],
      "execution_count": 0,
      "outputs": []
    },
    {
      "cell_type": "code",
      "metadata": {
        "colab_type": "code",
        "id": "xSJUTPO12Nx7",
        "colab": {}
      },
      "source": [
        "X_train, X_test = fts.train_features, fts.dev_features\n",
        "Y_train, Y_test = Train.df['Labels'], Test.df['Labels']"
      ],
      "execution_count": 0,
      "outputs": []
    },
    {
      "cell_type": "code",
      "metadata": {
        "colab_type": "code",
        "id": "Xl3YfaB22NyH",
        "colab": {}
      },
      "source": [
        "from sklearn.linear_model import LogisticRegression as LR"
      ],
      "execution_count": 0,
      "outputs": []
    },
    {
      "cell_type": "code",
      "metadata": {
        "colab_type": "code",
        "id": "b0BlNMdY2NyO",
        "colab": {}
      },
      "source": [
        "model=LR(penalty='l2', class_weight='balanced', random_state=1234, solver='liblinear')\n",
        "model.fit(X_train, Y_train)\n",
        "preds=model.predict(X_test)"
      ],
      "execution_count": 0,
      "outputs": []
    },
    {
      "cell_type": "code",
      "metadata": {
        "colab_type": "code",
        "outputId": "9e5ac25f-19ad-4284-b955-749951db8bde",
        "id": "fTQeIruu2NyU",
        "colab": {
          "base_uri": "https://localhost:8080/",
          "height": 836
        }
      },
      "source": [
        "report(Y_test, preds)"
      ],
      "execution_count": 0,
      "outputs": [
        {
          "output_type": "stream",
          "text": [
            "                                    precision    recall  f1-score   support\n",
            "\n",
            "               Appeal_to_Authority       0.00      0.00      0.00        14\n",
            "          Appeal_to_fear-prejudice       0.20      0.23      0.21        44\n",
            "    Bandwagon,Reductio_ad_hitlerum       0.29      0.40      0.33         5\n",
            "           Black-and-White_Fallacy       0.18      0.18      0.18        22\n",
            "         Causal_Oversimplification       0.28      0.28      0.28        18\n",
            "                             Doubt       0.41      0.45      0.43        66\n",
            "         Exaggeration,Minimisation       0.39      0.35      0.37        68\n",
            "                       Flag-Waving       0.70      0.71      0.70        87\n",
            "                   Loaded_Language       0.63      0.77      0.69       325\n",
            "             Name_Calling,Labeling       0.56      0.53      0.55       183\n",
            "                        Repetition       0.44      0.26      0.33       145\n",
            "                           Slogans       0.33      0.20      0.25        40\n",
            "       Thought-terminating_Cliches       0.09      0.12      0.10        17\n",
            "Whataboutism,Straw_Men,Red_Herring       0.06      0.03      0.04        29\n",
            "\n",
            "                          accuracy                           0.50      1063\n",
            "                         macro avg       0.33      0.32      0.32      1063\n",
            "                      weighted avg       0.49      0.50      0.49      1063\n",
            "\n"
          ],
          "name": "stdout"
        },
        {
          "output_type": "display_data",
          "data": {
            "image/png": "[encoded data removed]",
            "text/plain": [
              "<Figure size 720x576 with 2 Axes>"
            ]
          },
          "metadata": {
            "tags": [],
            "needs_background": "light"
          }
        }
      ]
    },
    {
      "cell_type": "code",
      "metadata": {
        "id": "ZvF5NkH52Yhx",
        "colab_type": "code",
        "colab": {}
      },
      "source": [
        ""
      ],
      "execution_count": 0,
      "outputs": []
    }
  ]
}