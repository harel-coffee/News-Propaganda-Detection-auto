{
 "cells": [
  {
   "cell_type": "markdown",
   "metadata": {},
   "source": [
    "# IMPORTS"
   ]
  },
  {
   "cell_type": "code",
   "execution_count": 1,
   "metadata": {},
   "outputs": [],
   "source": [
    "import numpy as np\n",
    "\n",
    "import torch\n",
    "import torch.nn as nn\n",
    "from torch.utils.data import DataLoader, Dataset\n",
    "\n",
    "import os\n",
    "import time\n",
    "import matplotlib.pyplot as plt\n",
    "\n",
    "from modules.utils import *\n",
    "%matplotlib inline"
   ]
  },
  {
   "cell_type": "code",
   "execution_count": 2,
   "metadata": {},
   "outputs": [],
   "source": [
    "#SEED\n",
    "\n",
    "seed = 1234\n",
    "torch.manual_seed(seed)\n",
    "np.random.seed(seed)"
   ]
  },
  {
   "cell_type": "code",
   "execution_count": 3,
   "metadata": {},
   "outputs": [
    {
     "data": {
      "text/plain": [
       "'cuda'"
      ]
     },
     "execution_count": 3,
     "metadata": {},
     "output_type": "execute_result"
    }
   ],
   "source": [
    "#GPU CHECK\n",
    "\n",
    "device = ('cuda' if torch.cuda.is_available() else 'cpu')\n",
    "device"
   ]
  },
  {
   "cell_type": "markdown",
   "metadata": {},
   "source": [
    "# RAW DATA"
   ]
  },
  {
   "cell_type": "code",
   "execution_count": 4,
   "metadata": {},
   "outputs": [],
   "source": [
    "article_directory = '../datasets/train-articles/'\n",
    "label_directory = '../datasets/train-labels-task1-span-identification/'"
   ]
  },
  {
   "cell_type": "code",
   "execution_count": 5,
   "metadata": {},
   "outputs": [],
   "source": [
    "article_fnames = os.listdir(article_directory)\n",
    "article_ids = [int(fname[7:16]) for fname in article_fnames]"
   ]
  },
  {
   "cell_type": "code",
   "execution_count": 6,
   "metadata": {},
   "outputs": [],
   "source": [
    "data_raw = [read_article(idx) for idx in article_ids]"
   ]
  },
  {
   "cell_type": "markdown",
   "metadata": {},
   "source": [
    "# VOCABULARY BUILDING"
   ]
  },
  {
   "cell_type": "code",
   "execution_count": 7,
   "metadata": {},
   "outputs": [],
   "source": [
    "vocab_list = []\n",
    "exceptions = []\n",
    "for i in range(len(data_raw)):\n",
    "    text = data_raw[i][0]\n",
    "    wordlist = getWordSpans(text)\n",
    "    try:\n",
    "        for word in wordlist:\n",
    "            if text[word[0]:word[1]] not in vocab_list:\n",
    "                vocab_list.append(text[word[0]:word[1]])\n",
    "    except:\n",
    "        exceptions.append(i)\n",
    "        print(i, \" has an error\")"
   ]
  },
  {
   "cell_type": "code",
   "execution_count": 8,
   "metadata": {},
   "outputs": [],
   "source": [
    "vocab_dict = {k: v+2 for v, k in enumerate(vocab_list)}"
   ]
  },
  {
   "cell_type": "code",
   "execution_count": 9,
   "metadata": {},
   "outputs": [],
   "source": [
    "#PADDING AND OUT-OF-VOCABULARY\n",
    "\n",
    "pad_id = 0\n",
    "oov_id = 1"
   ]
  },
  {
   "cell_type": "code",
   "execution_count": 10,
   "metadata": {},
   "outputs": [],
   "source": [
    "vocab_dict['<PAD>'] = pad_id\n",
    "vocab_dict['<OOV>'] = oov_id"
   ]
  },
  {
   "cell_type": "code",
   "execution_count": 11,
   "metadata": {},
   "outputs": [
    {
     "data": {
      "text/plain": [
       "21700"
      ]
     },
     "execution_count": 11,
     "metadata": {},
     "output_type": "execute_result"
    }
   ],
   "source": [
    "vocab_length = len(vocab_dict)\n",
    "vocab_length"
   ]
  },
  {
   "cell_type": "markdown",
   "metadata": {},
   "source": [
    "# DATASET"
   ]
  },
  {
   "cell_type": "code",
   "execution_count": 12,
   "metadata": {},
   "outputs": [],
   "source": [
    "#GENERATING WORK TOKEN SEQUENCES FOR LSTM TRAINING\n",
    "\n",
    "max_len = 8\n",
    "\n",
    "X_right = []\n",
    "X_left = []\n",
    "y = []\n",
    "\n",
    "for idx in article_ids:   \n",
    "    words, labels = getLabeledWords(idx)\n",
    "    word_tokens = [vocab_dict[word] for word in words]\n",
    "    \n",
    "    for i in range(len(word_tokens)):\n",
    "        y.append(labels[i])\n",
    "        \n",
    "        x_r = word_tokens[i:]\n",
    "        x_l = word_tokens[:i+1]\n",
    "        \n",
    "        if len(x_r)>max_len:\n",
    "            x_r = x_r[:max_len]\n",
    "        elif len(x_r)<max_len:\n",
    "            x_r = x_r + [pad_id]*(max_len-len(x_r))\n",
    "        \n",
    "        if len(x_l)>max_len:\n",
    "            x_l = x_l[-max_len:]\n",
    "        elif len(x_l)<max_len:\n",
    "            x_l = [pad_id]*(max_len-len(x_l)) + x_l\n",
    "            \n",
    "        X_right.append(x_r[::-1])\n",
    "        X_left.append(x_l)"
   ]
  },
  {
   "cell_type": "code",
   "execution_count": 13,
   "metadata": {},
   "outputs": [],
   "source": [
    "#ONE HOT ENCODINGS TOKENS DATASET\n",
    "\n",
    "class OneHotTdLstmDataset(Dataset):\n",
    "    def __init__(self, x_right_seqs, x_left_seqs, y, vocab_length, transform=None):\n",
    "        self.x_right_seqs = x_right_seqs\n",
    "        self.x_left_seqs = x_left_seqs\n",
    "        self.y = y\n",
    "        self.vocab_length = vocab_length\n",
    "        self.transform = transform\n",
    "    \n",
    "    def __len__(self):\n",
    "        return len(self.x_right_seqs)\n",
    "    \n",
    "    def __getitem__(self, idx):\n",
    "        if torch.is_tensor(idx):\n",
    "            idx = idx.tolist()\n",
    "            \n",
    "        x_r, x_l = self.x_right_seqs[idx], self.x_left_seqs[idx]\n",
    "        x_r_one_hot, x_l_one_hot = np.zeros((len(x_r), self.vocab_length)), np.zeros((len(x_l), self.vocab_length))\n",
    "        \n",
    "        rows_r, cols_r = zip(*[(i, x_r[i]) for i in range(len(x_r))])\n",
    "        rows_l, cols_l = zip(*[(i, x_l[i]) for i in range(len(x_l))])\n",
    " \n",
    "        x_r_one_hot[rows_r, cols_r] = np.ones(len(x_r))\n",
    "        x_l_one_hot[rows_l, cols_l] = np.ones(len(x_l))\n",
    "        \n",
    "        x_r_one_hot = torch.tensor(x_r_one_hot)\n",
    "        x_l_one_hot = torch.tensor(x_l_one_hot)\n",
    "        y_ = torch.tensor(self.y[idx])\n",
    "        \n",
    "        return x_r_one_hot, x_l_one_hot, y_"
   ]
  },
  {
   "cell_type": "code",
   "execution_count": 14,
   "metadata": {},
   "outputs": [],
   "source": [
    "#ITERATORS\n",
    "\n",
    "train_dataset = OneHotTdLstmDataset(X_right, X_left, y, vocab_length)\n",
    "train_loader = DataLoader(train_dataset, batch_size=32,\n",
    "                        shuffle=True, num_workers=4)"
   ]
  },
  {
   "cell_type": "markdown",
   "metadata": {},
   "source": [
    "# MODEL"
   ]
  },
  {
   "cell_type": "code",
   "execution_count": 15,
   "metadata": {},
   "outputs": [],
   "source": [
    "#TD-LSTM\n",
    "\n",
    "class WordTDLSTM(nn.Module):\n",
    "    \n",
    "    def __init__(self, input_size, hidden_size):\n",
    "        super(WordTDLSTM, self).__init__()\n",
    "        \n",
    "        #Input Parameters\n",
    "        self.input_size = input_size\n",
    "        self.hidden_size = hidden_size\n",
    "        \n",
    "        #Defining Layers\n",
    "        self.lstm_l = nn.LSTM(input_size=input_size, hidden_size=hidden_size, batch_first=True)\n",
    "        self.lstm_r = nn.LSTM(input_size=input_size, hidden_size=hidden_size, batch_first=True)\n",
    "        self.fc = nn.Linear(2*hidden_size, 1)\n",
    "        self.sigmoid = nn.Sigmoid()\n",
    "        \n",
    "    def forward(self, sequence_r, sequence_l):\n",
    "        #LSTM Outputs\n",
    "        __, (lstm_r_out, _) = self.lstm_r(sequence_r)                 #Right LSTM output\n",
    "        __, (lstm_l_out, _) = self.lstm_l(sequence_l)                 #Left LSTM output\n",
    "\n",
    "        #FC Layer\n",
    "        fc_input = torch.cat((lstm_r_out, lstm_l_out), dim=2)    #Concatenating outputs from last cells of both LSTMs\n",
    "        fc_input = fc_input.reshape(fc_input.shape[1], fc_input.shape[2])\n",
    "        out = self.fc(fc_input)                                  #Final sigmoid output\n",
    "        out = self.sigmoid(out)\n",
    "        \n",
    "        return out"
   ]
  },
  {
   "cell_type": "code",
   "execution_count": 16,
   "metadata": {},
   "outputs": [],
   "source": [
    "model = WordTDLSTM(vocab_length, 128)\n",
    "model = model.to(device)"
   ]
  },
  {
   "cell_type": "code",
   "execution_count": 17,
   "metadata": {},
   "outputs": [],
   "source": [
    "optimizer = torch.optim.Adam(model.parameters(), lr=1e-3, eps=1e-5)\n",
    "criterion = nn.BCELoss()"
   ]
  },
  {
   "cell_type": "code",
   "execution_count": 18,
   "metadata": {},
   "outputs": [
    {
     "name": "stdout",
     "output_type": "stream",
     "text": [
      "[1,  1000] loss: 0.384 time: 99.667\n",
      "[1,  2000] loss: 0.327 time: 199.273\n",
      "[1,  3000] loss: 0.301 time: 296.134\n",
      "[1,  4000] loss: 0.277 time: 396.725\n",
      "[1,  5000] loss: 0.259 time: 493.538\n",
      "[1,  6000] loss: 0.247 time: 589.614\n",
      "[1,  7000] loss: 0.236 time: 684.945\n",
      "[1,  8000] loss: 0.229 time: 782.281\n",
      "[1,  9000] loss: 0.215 time: 878.985\n",
      "[1, 10000] loss: 0.206 time: 976.394\n",
      "[2,  1000] loss: 0.147 time: 1154.578\n",
      "[2,  2000] loss: 0.152 time: 1249.073\n",
      "[2,  3000] loss: 0.145 time: 1344.483\n",
      "[2,  4000] loss: 0.143 time: 1439.261\n",
      "[2,  5000] loss: 0.149 time: 1538.072\n",
      "[2,  6000] loss: 0.137 time: 1636.914\n",
      "[2,  7000] loss: 0.133 time: 1732.190\n",
      "[2,  8000] loss: 0.132 time: 1826.736\n",
      "[2,  9000] loss: 0.129 time: 1921.122\n",
      "[2, 10000] loss: 0.122 time: 2016.391\n",
      "[3,  1000] loss: 0.075 time: 2194.228\n",
      "[3,  2000] loss: 0.079 time: 2289.694\n",
      "[3,  3000] loss: 0.078 time: 2384.602\n",
      "[3,  4000] loss: 0.084 time: 2479.854\n",
      "[3,  5000] loss: 0.080 time: 2574.122\n",
      "[3,  6000] loss: 0.081 time: 2669.532\n",
      "[3,  7000] loss: 0.081 time: 2764.906\n",
      "[3,  8000] loss: 0.080 time: 2860.720\n",
      "[3,  9000] loss: 0.076 time: 2955.538\n",
      "[3, 10000] loss: 0.076 time: 3049.997\n",
      "Finished Training\n"
     ]
    }
   ],
   "source": [
    "#TRAINING\n",
    "\n",
    "epochs = 3\n",
    "train_loss = []\n",
    "start_time = time.time()\n",
    "\n",
    "for epoch in range(epochs):  # loop over the dataset multiple times\n",
    "\n",
    "    running_loss = 0.0\n",
    "    for i, data in enumerate(train_loader):\n",
    "        inputs_r, inputs_l, labels = data\n",
    "        inputs_r, inputs_l, labels = inputs_r.to(device), inputs_l.to(device), labels.to(device)\n",
    "\n",
    "        # zero the parameter gradients\n",
    "        optimizer.zero_grad()\n",
    "\n",
    "        # forward + backward + optimize\n",
    "        outputs = model(inputs_r.float(), inputs_l.float())\n",
    "        loss = criterion(outputs.flatten(), labels.float())\n",
    "        loss.backward()\n",
    "        optimizer.step()\n",
    "\n",
    "        # print statistics\n",
    "        running_loss += loss.item()\n",
    "        \n",
    "        if i % 1000 == 999:    # print every 1000 mini-batches\n",
    "            print('[%d, %5d] loss: %.3f time: %.3f' %\n",
    "                  (epoch + 1, i + 1, running_loss / 1000, time.time()-start_time))\n",
    "            train_loss.append(running_loss / 1000)\n",
    "            running_loss = 0.0\n",
    "\n",
    "print('Finished Training')"
   ]
  },
  {
   "cell_type": "code",
   "execution_count": 19,
   "metadata": {},
   "outputs": [
    {
     "data": {
      "text/plain": [
       "[<matplotlib.lines.Line2D at 0x7f1c555411d0>]"
      ]
     },
     "execution_count": 19,
     "metadata": {},
     "output_type": "execute_result"
    },
    {
     "data": {
      "image/png": "[encoded data removed]",
      "text/plain": [
       "<Figure size 432x288 with 1 Axes>"
      ]
     },
     "metadata": {
      "needs_background": "light"
     },
     "output_type": "display_data"
    }
   ],
   "source": [
    "plt.plot(train_loss)"
   ]
  },
  {
   "cell_type": "code",
   "execution_count": 20,
   "metadata": {},
   "outputs": [
    {
     "name": "stderr",
     "output_type": "stream",
     "text": [
      "/home/rajaswa/.local/lib/python3.6/site-packages/torch/serialization.py:292: UserWarning: Couldn't retrieve source code for container of type WordTDLSTM. It won't be checked for correctness upon loading.\n",
      "  \"type \" + obj.__name__ + \". It won't be checked \"\n",
      "/home/rajaswa/.local/lib/python3.6/site-packages/torch/serialization.py:292: UserWarning: Couldn't retrieve source code for container of type LSTM. It won't be checked for correctness upon loading.\n",
      "  \"type \" + obj.__name__ + \". It won't be checked \"\n",
      "/home/rajaswa/.local/lib/python3.6/site-packages/torch/serialization.py:292: UserWarning: Couldn't retrieve source code for container of type Linear. It won't be checked for correctness upon loading.\n",
      "  \"type \" + obj.__name__ + \". It won't be checked \"\n",
      "/home/rajaswa/.local/lib/python3.6/site-packages/torch/serialization.py:292: UserWarning: Couldn't retrieve source code for container of type Sigmoid. It won't be checked for correctness upon loading.\n",
      "  \"type \" + obj.__name__ + \". It won't be checked \"\n"
     ]
    }
   ],
   "source": [
    "torch.save(model, './WordTDLSTM_one_hot_23_12_19.pth')"
   ]
  },
  {
   "cell_type": "code",
   "execution_count": null,
   "metadata": {},
   "outputs": [],
   "source": []
  }
 ],
 "metadata": {
  "kernelspec": {
   "display_name": "Python 3",
   "language": "python",
   "name": "python3"
  },
  "language_info": {
   "codemirror_mode": {
    "name": "ipython",
    "version": 3
   },
   "file_extension": ".py",
   "mimetype": "text/x-python",
   "name": "python",
   "nbconvert_exporter": "python",
   "pygments_lexer": "ipython3",
   "version": "3.6.8"
  }
 },
 "nbformat": 4,
 "nbformat_minor": 2
}
